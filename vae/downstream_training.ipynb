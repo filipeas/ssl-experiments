{
 "cells": [
  {
   "cell_type": "code",
   "execution_count": 619,
   "metadata": {},
   "outputs": [],
   "source": [
    "import torch\n",
    "import os\n",
    "import numpy as np\n",
    "import pandas as pd\n",
    "import torch.nn as nn\n",
    "import torch.optim as optim\n",
    "import matplotlib.pyplot as plt\n",
    "from sklearn.preprocessing import StandardScaler, LabelEncoder\n",
    "from sklearn.metrics import mean_squared_error, mean_absolute_error, r2_score\n",
    "from torch.utils.data import DataLoader, Dataset\n",
    "import torch.nn.functional as F\n",
    "\n",
    "import seaborn as sns\n",
    "from sklearn.metrics import confusion_matrix, classification_report"
   ]
  },
  {
   "cell_type": "code",
   "execution_count": 620,
   "metadata": {},
   "outputs": [],
   "source": [
    "class CSVLabeledDataset(Dataset):\n",
    "    def __init__(self, csv_file, transform=None):\n",
    "        self.data = pd.read_csv(csv_file)\n",
    "        self.transform = transform\n",
    "\n",
    "        self.features = self.data.iloc[:, :-1].values\n",
    "        self.labels = self.data.iloc[:, -1].values\n",
    "\n",
    "        self.label_encoder = LabelEncoder()\n",
    "        self.labels = self.label_encoder.fit_transform(self.labels)\n",
    "\n",
    "        if self.transform:\n",
    "            self.features = self.transform.fit_transform(self.features)\n",
    "    \n",
    "    def __len__(self):\n",
    "        return len(self.features)\n",
    "    \n",
    "    def __getitem__(self, idx):\n",
    "        sample = torch.tensor(self.features[idx], dtype=torch.float32).unsqueeze(0)\n",
    "        label = torch.tensor(self.labels[idx], dtype=torch.long)\n",
    "        return sample, label\n",
    "    \n",
    "    def get_label_encoder(self):\n",
    "        return self.label_encoder"
   ]
  },
  {
   "cell_type": "code",
   "execution_count": 621,
   "metadata": {},
   "outputs": [],
   "source": [
    "def createDataLoader(train_csv, test_csv, batch_size=32):\n",
    "    scaler = StandardScaler()\n",
    "\n",
    "    train_dataset = CSVLabeledDataset(train_csv, transform=scaler)\n",
    "    test_dataset = CSVLabeledDataset(test_csv, transform=scaler)\n",
    "\n",
    "    train_loader = DataLoader(train_dataset, batch_size=batch_size, shuffle=True)\n",
    "    test_loader = DataLoader(test_dataset, batch_size=batch_size, shuffle=False)\n",
    "\n",
    "    return train_dataset, test_dataset, train_loader, test_loader"
   ]
  },
  {
   "cell_type": "code",
   "execution_count": 622,
   "metadata": {},
   "outputs": [],
   "source": [
    "# Arquivos CSV de treinamento e teste\n",
    "train_csv = 'dataset/hars/train.csv'\n",
    "test_csv = 'dataset/hars/test.csv'\n",
    "\n",
    "train_dataset, test_dataset, train_loader, test_loader = createDataLoader(train_csv, test_csv)"
   ]
  },
  {
   "cell_type": "code",
   "execution_count": 623,
   "metadata": {},
   "outputs": [],
   "source": [
    "# print(len(train_dataset), len(train_loader), len(test_loader))"
   ]
  },
  {
   "cell_type": "code",
   "execution_count": 624,
   "metadata": {},
   "outputs": [
    {
     "name": "stdout",
     "output_type": "stream",
     "text": [
      "torch.Size([32, 1, 562])\n",
      "torch.Size([32])\n"
     ]
    }
   ],
   "source": [
    "for batch_idx, (x, y) in enumerate(train_loader):\n",
    "    print(x.shape)\n",
    "    print(y.shape)\n",
    "    break"
   ]
  },
  {
   "cell_type": "code",
   "execution_count": 625,
   "metadata": {},
   "outputs": [],
   "source": [
    "class TemporalVAE(nn.Module):\n",
    "    def __init__(self, device, input_dim, hidden_dim, latent_dim, num_layers=1):\n",
    "        super(TemporalVAE, self).__init__()\n",
    "\n",
    "        self.encoder_lstm = nn.LSTM(input_dim, hidden_dim, num_layers, batch_first=True, bidirectional=True, dropout=0.2)\n",
    "        self.hidden2mean = nn.Linear(hidden_dim, latent_dim)\n",
    "        self.hidden2logvar = nn.Linear(hidden_dim, latent_dim)\n",
    "        \n",
    "        self.latent2hidden = nn.Linear(latent_dim, hidden_dim)\n",
    "        self.decoder_lstm = nn.LSTM(hidden_dim, input_dim, num_layers, batch_first=True, bidirectional=False, dropout=0.2)\n",
    "        self.output_layer = nn.Linear(input_dim, input_dim)\n",
    "        self.dropout = nn.Dropout(0.2)\n",
    "    \n",
    "    def reparameterize(self, mean, logvar):\n",
    "        std = torch.exp(0.5 * logvar)\n",
    "        eps = torch.randn_like(std).to(device)\n",
    "        return mean + eps * std\n",
    "    \n",
    "    def encode(self, x):\n",
    "        residual = x\n",
    "        output, (h_n, _) = self.encoder_lstm(x)\n",
    "        output = output[:, :, :output.size(2)//2] + output[:, :, output.size(2)//2:]\n",
    "        h_n = output[:, -1, :]\n",
    "        # h_n = h_n[-1, :, :]\n",
    "        h_n = self.dropout(h_n)\n",
    "        mean = torch.sigmoid(self.hidden2mean(h_n))\n",
    "        logvar = torch.sigmoid(self.hidden2logvar(h_n))\n",
    "        return mean, logvar, residual\n",
    "    \n",
    "    def decode(self, z, seq_len, residual):\n",
    "        # hidden = self.latent2hidden(z).unsqueeze(0).repeat(seq_len, 1, 1).transpose(0, 1)\n",
    "        hidden = self.latent2hidden(z).unsqueeze(1).repeat(1, seq_len, 1)\n",
    "\n",
    "        output, _ = self.decoder_lstm(hidden)\n",
    "        output = self.dropout(output)\n",
    "\n",
    "        # output += residual\n",
    "\n",
    "        output = self.output_layer(output)\n",
    "        return output\n",
    "    \n",
    "    def forward(self, x):\n",
    "        mean, logvar, residual = self.encode(x)\n",
    "        z = self.reparameterize(mean, logvar)\n",
    "        seq_len = x.size(1)\n",
    "        recon_x = self.decode(z, seq_len, residual)\n",
    "        return recon_x, mean, logvar"
   ]
  },
  {
   "cell_type": "code",
   "execution_count": 626,
   "metadata": {},
   "outputs": [
    {
     "name": "stdout",
     "output_type": "stream",
     "text": [
      "mps\n"
     ]
    }
   ],
   "source": [
    "if torch.backends.mps.is_available():\n",
    "    device = torch.device(\"mps\")\n",
    "else:\n",
    "    print (\"MPS device not found.\")\n",
    "    device = torch.device('cuda' if torch.cuda.is_available() else 'cpu') # cuda\n",
    "print(device)\n",
    "\n",
    "input_dim = train_dataset.features.shape[1]\n",
    "hidden_dim = 128 # 400\n",
    "latent_dim = 64 # 20\n",
    "num_layers = 2\n",
    "epochs = 100"
   ]
  },
  {
   "cell_type": "code",
   "execution_count": 627,
   "metadata": {},
   "outputs": [
    {
     "name": "stdout",
     "output_type": "stream",
     "text": [
      "TemporalVAE(\n",
      "  (encoder_lstm): LSTM(562, 128, num_layers=2, batch_first=True, dropout=0.2, bidirectional=True)\n",
      "  (hidden2mean): Linear(in_features=128, out_features=64, bias=True)\n",
      "  (hidden2logvar): Linear(in_features=128, out_features=64, bias=True)\n",
      "  (latent2hidden): Linear(in_features=64, out_features=128, bias=True)\n",
      "  (decoder_lstm): LSTM(128, 562, num_layers=2, batch_first=True, dropout=0.2)\n",
      "  (output_layer): Linear(in_features=562, out_features=562, bias=True)\n",
      "  (dropout): Dropout(p=0.2, inplace=False)\n",
      ")\n"
     ]
    }
   ],
   "source": [
    "# carregando modelo\n",
    "model_path = \"model/vae.pth\"\n",
    "\n",
    "# Criar uma instância do modelo\n",
    "model = TemporalVAE(device, input_dim, hidden_dim, latent_dim, num_layers).to(device)\n",
    "\n",
    "# Carregar o estado salvo\n",
    "state_dict = torch.load(model_path)\n",
    "\n",
    "# Carregar o estado no modelo\n",
    "model.load_state_dict(state_dict)\n",
    "\n",
    "print(model)"
   ]
  },
  {
   "cell_type": "code",
   "execution_count": 628,
   "metadata": {},
   "outputs": [],
   "source": [
    "# Função para extrair vetores latentes\n",
    "def extract_latent_vectors(model, data_loader):\n",
    "    latents = []\n",
    "    labels = []\n",
    "    with torch.no_grad():\n",
    "        for data, label in data_loader:\n",
    "            data = data.to(device)\n",
    "            mean, logvar, _ = model.encode(data)\n",
    "            latents.append(mean.cpu().numpy())\n",
    "            labels.append(label.cpu().numpy())\n",
    "    return np.vstack(latents), np.hstack(labels)\n",
    "\n",
    "# Extrair vetores latentes\n",
    "train_latents, train_labels = extract_latent_vectors(model, train_loader)\n",
    "test_latents, test_labels = extract_latent_vectors(model, test_loader)"
   ]
  },
  {
   "cell_type": "code",
   "execution_count": 629,
   "metadata": {},
   "outputs": [
    {
     "name": "stdout",
     "output_type": "stream",
     "text": [
      "(7352, 64) (2947, 64)\n",
      "[[0.50365055 0.48608533 0.50551647 ... 0.49143898 0.5081016  0.49500218]\n",
      " [0.5010171  0.48663104 0.4930503  ... 0.5035012  0.48508233 0.5062321 ]\n",
      " [0.4972652  0.493453   0.5009936  ... 0.49982983 0.49184653 0.49796772]\n",
      " ...\n",
      " [0.49827412 0.50191563 0.5040329  ... 0.48099077 0.51462954 0.50462306]\n",
      " [0.5205802  0.5003732  0.49267396 ... 0.5054373  0.4899897  0.4843184 ]\n",
      " [0.47715738 0.5148753  0.51639485 ... 0.50106204 0.5066832  0.51005584]]\n"
     ]
    }
   ],
   "source": [
    "print(train_latents.shape, test_latents.shape)\n",
    "print(train_latents)"
   ]
  },
  {
   "cell_type": "code",
   "execution_count": 630,
   "metadata": {},
   "outputs": [],
   "source": [
    "class Net(nn.Module):\n",
    "    def __init__(self, model, input_dim):\n",
    "        super(Net, self).__init__()\n",
    "        self.encode = model\n",
    "\n",
    "        # usando o encoder do VAE com espaco latente (acc ~ 78%)\n",
    "        self.fc1 = nn.Linear(64, 64)\n",
    "        self.dropout = nn.Dropout(0.2)\n",
    "        self.fc2 = nn.Linear(64, 6)\n",
    "\n",
    "        # (ERRADO) usando o encoder do VAE com residuo (acc ~ 90%)\n",
    "        # self.latent2hidden = nn.Linear(64, 128)\n",
    "        # self.decoder_lstm = nn.LSTM(128, input_dim, 6, batch_first=True, bidirectional=False, dropout=0.2)\n",
    "        # self.output_layer = nn.Linear(input_dim, input_dim)\n",
    "        # self.fc1 = nn.Linear(input_dim, 64)\n",
    "        # self.dropout = nn.Dropout(0.2)\n",
    "        # self.fc2 = nn.Linear(64, 6)\n",
    "\n",
    "        # (ERRADO) usando o VAE completo (acc ~ 95%)\n",
    "        # self.fc1 = nn.Linear(input_dim, 64)\n",
    "        # self.dropout = nn.Dropout(0.2)\n",
    "        # self.fc2 = nn.Linear(64, 6)\n",
    "\n",
    "        # Freeze encoder parameters\n",
    "        for param in model.parameters():\n",
    "            param.requires_grad = False\n",
    "        \n",
    "    def forward(self, x):\n",
    "        # usando o encoder do VAE com espaco latente (acc ~ 78%)\n",
    "        mean, logvar, residual = self.encode.encode(x)\n",
    "        # print(mean)\n",
    "        # z = self.encode.reparameterize(mean, logvar)\n",
    "        # print(z.shape)\n",
    "        x = torch.sigmoid(self.fc1(mean)) #  self.fc1(mean)\n",
    "        x = self.dropout(x)\n",
    "        x = self.fc2(x)\n",
    "\n",
    "        # (ERRADO) usando encoder do VAE, somando o residuo e expandindo para o shape original (acc ~ 90%)\n",
    "        # mean, logvar, residual = self.encode.encode(x)\n",
    "        # z = self.encode.reparameterize(mean, logvar)\n",
    "        # # print(z)\n",
    "        # seq_len = x.size(1)\n",
    "        # x = self.latent2hidden(z).unsqueeze(1).repeat(1, seq_len, 1).view(z.size(0), -1)\n",
    "        # x, _ = self.decoder_lstm(x)\n",
    "        # x = self.dropout(x)\n",
    "        # residual = residual.squeeze(1)\n",
    "        # x += residual\n",
    "        # x = self.output_layer(x)\n",
    "        # x = torch.sigmoid(self.fc1(x)) #  self.fc1(mean)\n",
    "        # x = self.dropout(x)\n",
    "        # x = self.fc2(x)\n",
    "\n",
    "        # print(\"mean output shape:\", mean.shape)\n",
    "        # print(\"logvar output shape:\", logvar.shape)\n",
    "        # print(\"residual output shape:\", residual.shape)\n",
    "        # print(\"z output shape:\", z.shape)\n",
    "        # print(\"seq_len output shape:\", seq_len)\n",
    "        # print(\"x output shape:\", x.shape)\n",
    "        # return\n",
    "\n",
    "        # (ERRADO) usando o VAE completo (acc ~ 95%)\n",
    "        # recon_x, mean, logvar = self.encode.forward(x)\n",
    "        # # print(recon_x)\n",
    "        # x = torch.sigmoid(self.fc1(recon_x.view(recon_x.size(0), -1))) #  self.fc1(mean)\n",
    "        # x = self.dropout(x)\n",
    "        # x = self.fc2(x)\n",
    "        return x"
   ]
  },
  {
   "cell_type": "code",
   "execution_count": 631,
   "metadata": {},
   "outputs": [
    {
     "name": "stdout",
     "output_type": "stream",
     "text": [
      "Net(\n",
      "  (encode): TemporalVAE(\n",
      "    (encoder_lstm): LSTM(562, 128, num_layers=2, batch_first=True, dropout=0.2, bidirectional=True)\n",
      "    (hidden2mean): Linear(in_features=128, out_features=64, bias=True)\n",
      "    (hidden2logvar): Linear(in_features=128, out_features=64, bias=True)\n",
      "    (latent2hidden): Linear(in_features=64, out_features=128, bias=True)\n",
      "    (decoder_lstm): LSTM(128, 562, num_layers=2, batch_first=True, dropout=0.2)\n",
      "    (output_layer): Linear(in_features=562, out_features=562, bias=True)\n",
      "    (dropout): Dropout(p=0.2, inplace=False)\n",
      "  )\n",
      "  (fc1): Linear(in_features=64, out_features=64, bias=True)\n",
      "  (dropout): Dropout(p=0.2, inplace=False)\n",
      "  (fc2): Linear(in_features=64, out_features=6, bias=True)\n",
      ")\n"
     ]
    }
   ],
   "source": [
    "net = Net(model, input_dim=input_dim).to(device)\n",
    "criterion = nn.CrossEntropyLoss()\n",
    "optimizer = optim.Adam(filter(lambda p: p.requires_grad, net.parameters()), lr=0.001)\n",
    "\n",
    "print(net)"
   ]
  },
  {
   "cell_type": "code",
   "execution_count": 632,
   "metadata": {},
   "outputs": [],
   "source": [
    "def trainModel(model, train_loader, criterion, optimizer, device):\n",
    "  model.train()\n",
    "  running_loss = 0.0\n",
    "  correct = 0\n",
    "  total = 0\n",
    "\n",
    "  for x, y in train_loader:\n",
    "    data = x.to(device)\n",
    "    label = y.to(device)\n",
    "    \n",
    "    optimizer.zero_grad()\n",
    "    logits = model(data)\n",
    "    loss = criterion(logits, label)\n",
    "    loss.backward()\n",
    "    optimizer.step()\n",
    "\n",
    "    running_loss += loss.item()\n",
    "    _, predicted = logits.max(1)\n",
    "    total += label.size(0)\n",
    "    correct += predicted.eq(label).sum().item()\n",
    "\n",
    "  epoch_loss = running_loss / len(train_loader)\n",
    "  epoch_acc = 100. * correct / total\n",
    "  return epoch_loss, epoch_acc\n",
    "\n",
    "def evalModel(model, val_loader, criterion, device):\n",
    "  model.eval()\n",
    "  running_loss = 0.0\n",
    "  correct = 0\n",
    "  total = 0\n",
    "\n",
    "  with torch.no_grad():\n",
    "    for x, y in val_loader:\n",
    "      data = x.to(device)\n",
    "      label = y.to(device)\n",
    "      logits = model(data)\n",
    "      loss = criterion(logits, label)\n",
    "\n",
    "      running_loss += loss.item()\n",
    "      _, predicted = logits.max(1)\n",
    "      total += label.size(0)\n",
    "      correct += predicted.eq(label).sum().item()\n",
    "\n",
    "  epoch_loss = running_loss / len(val_loader)\n",
    "  epoch_acc = 100. * correct / total\n",
    "  return epoch_loss, epoch_acc"
   ]
  },
  {
   "cell_type": "code",
   "execution_count": 633,
   "metadata": {},
   "outputs": [
    {
     "name": "stdout",
     "output_type": "stream",
     "text": [
      "Epoch 1/100, Train Loss: 1.7815, Train Acc: 19.19, Val Loss: 1.7677, Val Acc: 18.22\n",
      "Epoch 2/100, Train Loss: 1.7505, Train Acc: 23.60, Val Loss: 1.7281, Val Acc: 22.50\n",
      "Epoch 3/100, Train Loss: 1.6915, Train Acc: 29.76, Val Loss: 1.6459, Val Acc: 29.15\n",
      "Epoch 4/100, Train Loss: 1.5931, Train Acc: 37.73, Val Loss: 1.5144, Val Acc: 43.33\n",
      "Epoch 5/100, Train Loss: 1.4645, Train Acc: 44.45, Val Loss: 1.3717, Val Acc: 60.43\n",
      "Epoch 6/100, Train Loss: 1.3435, Train Acc: 49.12, Val Loss: 1.2423, Val Acc: 65.73\n",
      "Epoch 7/100, Train Loss: 1.2381, Train Acc: 53.16, Val Loss: 1.1446, Val Acc: 63.76\n",
      "Epoch 8/100, Train Loss: 1.1449, Train Acc: 56.95, Val Loss: 1.0585, Val Acc: 70.41\n",
      "Epoch 9/100, Train Loss: 1.0716, Train Acc: 59.74, Val Loss: 0.9826, Val Acc: 74.48\n",
      "Epoch 10/100, Train Loss: 1.0143, Train Acc: 61.52, Val Loss: 0.9311, Val Acc: 72.68\n",
      "Epoch 11/100, Train Loss: 0.9608, Train Acc: 64.11, Val Loss: 0.8771, Val Acc: 71.77\n",
      "Epoch 12/100, Train Loss: 0.9257, Train Acc: 64.50, Val Loss: 0.8291, Val Acc: 76.31\n",
      "Epoch 13/100, Train Loss: 0.8852, Train Acc: 66.20, Val Loss: 0.7934, Val Acc: 76.52\n",
      "Epoch 14/100, Train Loss: 0.8548, Train Acc: 66.51, Val Loss: 0.7673, Val Acc: 72.79\n",
      "Epoch 15/100, Train Loss: 0.8271, Train Acc: 67.57, Val Loss: 0.7442, Val Acc: 73.40\n",
      "Epoch 16/100, Train Loss: 0.8074, Train Acc: 68.19, Val Loss: 0.7191, Val Acc: 77.40\n",
      "Epoch 17/100, Train Loss: 0.7866, Train Acc: 68.04, Val Loss: 0.6999, Val Acc: 74.92\n",
      "Epoch 18/100, Train Loss: 0.7783, Train Acc: 68.43, Val Loss: 0.6854, Val Acc: 76.01\n",
      "Epoch 19/100, Train Loss: 0.7587, Train Acc: 69.49, Val Loss: 0.6686, Val Acc: 74.01\n",
      "Epoch 20/100, Train Loss: 0.7469, Train Acc: 69.64, Val Loss: 0.6582, Val Acc: 76.45\n",
      "Epoch 21/100, Train Loss: 0.7340, Train Acc: 70.01, Val Loss: 0.6540, Val Acc: 77.20\n",
      "Epoch 22/100, Train Loss: 0.7279, Train Acc: 69.70, Val Loss: 0.6383, Val Acc: 75.91\n",
      "Epoch 23/100, Train Loss: 0.7193, Train Acc: 69.89, Val Loss: 0.6306, Val Acc: 77.20\n",
      "Epoch 24/100, Train Loss: 0.7115, Train Acc: 69.94, Val Loss: 0.6236, Val Acc: 76.93\n",
      "Epoch 25/100, Train Loss: 0.7040, Train Acc: 70.12, Val Loss: 0.6248, Val Acc: 75.16\n",
      "Epoch 26/100, Train Loss: 0.7047, Train Acc: 70.16, Val Loss: 0.6155, Val Acc: 76.76\n",
      "Epoch 27/100, Train Loss: 0.7008, Train Acc: 70.39, Val Loss: 0.6051, Val Acc: 77.37\n",
      "Epoch 28/100, Train Loss: 0.6910, Train Acc: 71.16, Val Loss: 0.6074, Val Acc: 75.30\n",
      "Epoch 29/100, Train Loss: 0.6811, Train Acc: 71.80, Val Loss: 0.6002, Val Acc: 76.28\n",
      "Epoch 30/100, Train Loss: 0.6858, Train Acc: 70.85, Val Loss: 0.5985, Val Acc: 76.79\n",
      "Epoch 31/100, Train Loss: 0.6859, Train Acc: 71.68, Val Loss: 0.6001, Val Acc: 74.55\n",
      "Epoch 32/100, Train Loss: 0.6782, Train Acc: 71.15, Val Loss: 0.5900, Val Acc: 77.50\n",
      "Epoch 33/100, Train Loss: 0.6742, Train Acc: 71.00, Val Loss: 0.5946, Val Acc: 76.69\n",
      "Epoch 34/100, Train Loss: 0.6647, Train Acc: 72.05, Val Loss: 0.5945, Val Acc: 77.47\n",
      "Epoch 35/100, Train Loss: 0.6669, Train Acc: 72.31, Val Loss: 0.5803, Val Acc: 77.33\n",
      "Epoch 36/100, Train Loss: 0.6612, Train Acc: 71.61, Val Loss: 0.5912, Val Acc: 76.48\n",
      "Epoch 37/100, Train Loss: 0.6639, Train Acc: 71.97, Val Loss: 0.5846, Val Acc: 74.55\n",
      "Epoch 38/100, Train Loss: 0.6626, Train Acc: 71.93, Val Loss: 0.5785, Val Acc: 77.54\n",
      "Epoch 39/100, Train Loss: 0.6615, Train Acc: 71.48, Val Loss: 0.5720, Val Acc: 77.60\n",
      "Epoch 40/100, Train Loss: 0.6585, Train Acc: 71.74, Val Loss: 0.5753, Val Acc: 76.52\n",
      "Epoch 41/100, Train Loss: 0.6596, Train Acc: 72.14, Val Loss: 0.5685, Val Acc: 77.91\n",
      "Epoch 42/100, Train Loss: 0.6539, Train Acc: 72.17, Val Loss: 0.5721, Val Acc: 75.81\n",
      "Epoch 43/100, Train Loss: 0.6510, Train Acc: 72.37, Val Loss: 0.5685, Val Acc: 76.89\n",
      "Epoch 44/100, Train Loss: 0.6458, Train Acc: 72.25, Val Loss: 0.5676, Val Acc: 76.52\n",
      "Epoch 45/100, Train Loss: 0.6425, Train Acc: 73.04, Val Loss: 0.5628, Val Acc: 77.94\n",
      "Epoch 46/100, Train Loss: 0.6385, Train Acc: 73.46, Val Loss: 0.5622, Val Acc: 76.76\n",
      "Epoch 47/100, Train Loss: 0.6431, Train Acc: 72.43, Val Loss: 0.5591, Val Acc: 77.64\n",
      "Epoch 48/100, Train Loss: 0.6477, Train Acc: 72.25, Val Loss: 0.5622, Val Acc: 77.57\n",
      "Epoch 49/100, Train Loss: 0.6404, Train Acc: 72.59, Val Loss: 0.5590, Val Acc: 77.47\n",
      "Epoch 50/100, Train Loss: 0.6334, Train Acc: 73.39, Val Loss: 0.5584, Val Acc: 78.11\n",
      "Epoch 51/100, Train Loss: 0.6201, Train Acc: 73.07, Val Loss: 0.5659, Val Acc: 75.81\n",
      "Epoch 52/100, Train Loss: 0.6379, Train Acc: 73.30, Val Loss: 0.5611, Val Acc: 75.50\n",
      "Epoch 53/100, Train Loss: 0.6277, Train Acc: 73.04, Val Loss: 0.5536, Val Acc: 77.50\n",
      "Epoch 54/100, Train Loss: 0.6244, Train Acc: 73.86, Val Loss: 0.5508, Val Acc: 78.05\n",
      "Epoch 55/100, Train Loss: 0.6226, Train Acc: 72.97, Val Loss: 0.5591, Val Acc: 78.01\n",
      "Epoch 56/100, Train Loss: 0.6292, Train Acc: 73.04, Val Loss: 0.5510, Val Acc: 77.37\n",
      "Epoch 57/100, Train Loss: 0.6267, Train Acc: 73.50, Val Loss: 0.5547, Val Acc: 78.96\n",
      "Epoch 58/100, Train Loss: 0.6274, Train Acc: 73.60, Val Loss: 0.5575, Val Acc: 77.43\n",
      "Epoch 59/100, Train Loss: 0.6281, Train Acc: 73.53, Val Loss: 0.5497, Val Acc: 77.50\n",
      "Epoch 60/100, Train Loss: 0.6190, Train Acc: 73.59, Val Loss: 0.5537, Val Acc: 77.60\n",
      "Epoch 61/100, Train Loss: 0.6235, Train Acc: 73.54, Val Loss: 0.5485, Val Acc: 78.66\n",
      "Epoch 62/100, Train Loss: 0.6150, Train Acc: 73.93, Val Loss: 0.5440, Val Acc: 78.01\n",
      "Epoch 63/100, Train Loss: 0.6161, Train Acc: 73.31, Val Loss: 0.5485, Val Acc: 79.20\n",
      "Epoch 64/100, Train Loss: 0.6182, Train Acc: 73.86, Val Loss: 0.5447, Val Acc: 77.60\n",
      "Epoch 65/100, Train Loss: 0.6073, Train Acc: 73.45, Val Loss: 0.5453, Val Acc: 78.76\n",
      "Epoch 66/100, Train Loss: 0.6180, Train Acc: 73.61, Val Loss: 0.5459, Val Acc: 77.64\n",
      "Epoch 67/100, Train Loss: 0.6147, Train Acc: 74.42, Val Loss: 0.5407, Val Acc: 78.05\n",
      "Epoch 68/100, Train Loss: 0.6202, Train Acc: 73.90, Val Loss: 0.5382, Val Acc: 77.88\n",
      "Epoch 69/100, Train Loss: 0.6041, Train Acc: 73.84, Val Loss: 0.5373, Val Acc: 78.32\n",
      "Epoch 70/100, Train Loss: 0.6138, Train Acc: 73.67, Val Loss: 0.5359, Val Acc: 77.77\n",
      "Epoch 71/100, Train Loss: 0.6057, Train Acc: 73.68, Val Loss: 0.5448, Val Acc: 77.88\n",
      "Epoch 72/100, Train Loss: 0.6043, Train Acc: 72.88, Val Loss: 0.5448, Val Acc: 77.54\n",
      "Epoch 73/100, Train Loss: 0.6070, Train Acc: 73.68, Val Loss: 0.5351, Val Acc: 77.91\n",
      "Epoch 74/100, Train Loss: 0.6047, Train Acc: 73.35, Val Loss: 0.5359, Val Acc: 77.94\n",
      "Epoch 75/100, Train Loss: 0.6058, Train Acc: 74.03, Val Loss: 0.5349, Val Acc: 78.93\n",
      "Epoch 76/100, Train Loss: 0.6051, Train Acc: 73.41, Val Loss: 0.5441, Val Acc: 77.98\n",
      "Epoch 77/100, Train Loss: 0.5991, Train Acc: 73.71, Val Loss: 0.5349, Val Acc: 77.84\n",
      "Epoch 78/100, Train Loss: 0.6020, Train Acc: 73.82, Val Loss: 0.5312, Val Acc: 78.22\n",
      "Epoch 79/100, Train Loss: 0.5992, Train Acc: 74.48, Val Loss: 0.5358, Val Acc: 76.01\n",
      "Epoch 80/100, Train Loss: 0.5981, Train Acc: 74.09, Val Loss: 0.5344, Val Acc: 78.01\n",
      "Epoch 81/100, Train Loss: 0.5946, Train Acc: 74.44, Val Loss: 0.5297, Val Acc: 78.86\n",
      "Epoch 82/100, Train Loss: 0.5964, Train Acc: 74.33, Val Loss: 0.5317, Val Acc: 77.23\n",
      "Epoch 83/100, Train Loss: 0.5937, Train Acc: 74.03, Val Loss: 0.5308, Val Acc: 78.11\n",
      "Epoch 84/100, Train Loss: 0.5879, Train Acc: 73.83, Val Loss: 0.5329, Val Acc: 78.22\n",
      "Epoch 85/100, Train Loss: 0.5970, Train Acc: 74.18, Val Loss: 0.5281, Val Acc: 78.42\n",
      "Epoch 86/100, Train Loss: 0.5929, Train Acc: 74.46, Val Loss: 0.5276, Val Acc: 78.59\n",
      "Epoch 87/100, Train Loss: 0.5905, Train Acc: 74.39, Val Loss: 0.5237, Val Acc: 77.81\n",
      "Epoch 88/100, Train Loss: 0.5943, Train Acc: 74.06, Val Loss: 0.5208, Val Acc: 77.88\n",
      "Epoch 89/100, Train Loss: 0.5919, Train Acc: 73.69, Val Loss: 0.5243, Val Acc: 78.25\n",
      "Epoch 90/100, Train Loss: 0.5904, Train Acc: 74.13, Val Loss: 0.5265, Val Acc: 78.22\n",
      "Epoch 91/100, Train Loss: 0.5796, Train Acc: 74.66, Val Loss: 0.5198, Val Acc: 78.83\n",
      "Epoch 92/100, Train Loss: 0.5806, Train Acc: 74.36, Val Loss: 0.5255, Val Acc: 78.35\n",
      "Epoch 93/100, Train Loss: 0.5908, Train Acc: 73.67, Val Loss: 0.5311, Val Acc: 77.10\n",
      "Epoch 94/100, Train Loss: 0.5846, Train Acc: 74.55, Val Loss: 0.5154, Val Acc: 78.32\n",
      "Epoch 95/100, Train Loss: 0.5828, Train Acc: 75.11, Val Loss: 0.5176, Val Acc: 79.54\n",
      "Epoch 96/100, Train Loss: 0.5776, Train Acc: 74.22, Val Loss: 0.5138, Val Acc: 78.79\n",
      "Epoch 97/100, Train Loss: 0.5839, Train Acc: 74.78, Val Loss: 0.5184, Val Acc: 77.91\n",
      "Epoch 98/100, Train Loss: 0.5763, Train Acc: 74.84, Val Loss: 0.5330, Val Acc: 78.79\n",
      "Epoch 99/100, Train Loss: 0.5815, Train Acc: 74.54, Val Loss: 0.5156, Val Acc: 78.52\n",
      "Epoch 100/100, Train Loss: 0.5828, Train Acc: 74.66, Val Loss: 0.5166, Val Acc: 78.38\n"
     ]
    }
   ],
   "source": [
    "train_losses = []\n",
    "train_accuracies = []\n",
    "val_losses = []\n",
    "val_accuracies = []\n",
    "\n",
    "best_val_acc = 0.0\n",
    "\n",
    "for epoch in range(epochs):\n",
    "  train_loss, train_acc = trainModel(net, train_loader, criterion, optimizer, device)\n",
    "  val_loss, val_acc = evalModel(net, test_loader, criterion, device)\n",
    "\n",
    "  train_losses.append(train_loss)\n",
    "  train_accuracies.append(train_acc)\n",
    "\n",
    "  val_losses.append(val_loss)\n",
    "  val_accuracies.append(val_acc)\n",
    "\n",
    "  print(f'Epoch {epoch+1}/{epochs}, Train Loss: {train_loss:.4f}, Train Acc: {train_acc:.2f}, Val Loss: {val_loss:.4f}, Val Acc: {val_acc:.2f}')"
   ]
  },
  {
   "cell_type": "code",
   "execution_count": 634,
   "metadata": {},
   "outputs": [
    {
     "name": "stdout",
     "output_type": "stream",
     "text": [
      "Test Loss: 0.5166, Test Acc: 78.38\n"
     ]
    }
   ],
   "source": [
    "# avaliando modelo sem augmentation\n",
    "test_loss, test_acc = evalModel(net, test_loader, criterion, device)\n",
    "print(f'Test Loss: {test_loss:.4f}, Test Acc: {test_acc:.2f}') # Test Loss: 1.6467, Test Acc: 35.87"
   ]
  },
  {
   "cell_type": "code",
   "execution_count": 635,
   "metadata": {},
   "outputs": [
    {
     "data": {
      "image/png": "[encoded data removed]",
      "text/plain": [
       "<Figure size 1400x500 with 2 Axes>"
      ]
     },
     "metadata": {},
     "output_type": "display_data"
    }
   ],
   "source": [
    "# Plotando a perda e a precisão do modelo sem augmentation\n",
    "epocas = range(1, epochs + 1) # é 36 epocas porque com early stopping so rodou 36 epocas\n",
    "\n",
    "plt.figure(figsize=(14, 5))\n",
    "\n",
    "plt.subplot(1, 2, 1)\n",
    "plt.plot(epocas, train_losses, 'r', label='Train Loss')\n",
    "plt.plot(epocas, val_losses, 'b', label='Validation Loss')\n",
    "plt.title('Train and Validation Loss')\n",
    "plt.xlabel('Epochs')\n",
    "plt.ylabel('Loss')\n",
    "plt.legend()\n",
    "\n",
    "plt.subplot(1, 2, 2)\n",
    "plt.plot(epocas, train_accuracies, 'r', label='Train Accuracy')\n",
    "plt.plot(epocas, val_accuracies, 'b', label='Validation Accuracy')\n",
    "plt.title('Train and Validation Accuracy')\n",
    "plt.xlabel('Epochs')\n",
    "plt.ylabel('Accuracy')\n",
    "plt.legend()\n",
    "\n",
    "plt.show()"
   ]
  },
  {
   "cell_type": "code",
   "execution_count": 636,
   "metadata": {},
   "outputs": [
    {
     "data": {
      "image/png": "[encoded data removed]",
      "text/plain": [
       "<Figure size 1000x800 with 2 Axes>"
      ]
     },
     "metadata": {},
     "output_type": "display_data"
    },
    {
     "name": "stdout",
     "output_type": "stream",
     "text": [
      "              precision    recall  f1-score   support\n",
      "\n",
      "           0       0.98      0.94      0.96       537\n",
      "           1       0.62      0.61      0.62       491\n",
      "           2       0.68      0.71      0.70       532\n",
      "           3       0.86      0.82      0.84       496\n",
      "           4       0.72      0.68      0.70       420\n",
      "           5       0.83      0.92      0.87       471\n",
      "\n",
      "    accuracy                           0.78      2947\n",
      "   macro avg       0.78      0.78      0.78      2947\n",
      "weighted avg       0.79      0.78      0.78      2947\n",
      "\n"
     ]
    }
   ],
   "source": [
    "# Obter previsões do conjunto de teste\n",
    "net.eval()\n",
    "all_preds = []\n",
    "all_labels = []\n",
    "with torch.no_grad():\n",
    "    for batch_idx, (x, y) in enumerate(test_loader):\n",
    "        data = x.to(device)\n",
    "        label = y.to(device)\n",
    "        outputs = net(data)\n",
    "        _, preds = outputs.max(1)\n",
    "        all_preds.extend(preds.cpu().numpy())\n",
    "        all_labels.extend(label.cpu().numpy())\n",
    "\n",
    "# Calcular a matriz de confusão\n",
    "cm = confusion_matrix(all_labels, all_preds)\n",
    "\n",
    "# Visualizar a matriz de confusão\n",
    "plt.figure(figsize=(10, 8))\n",
    "sns.heatmap(cm, annot=True, fmt='d', cmap='Blues')\n",
    "plt.title('Confusion Matrix')\n",
    "plt.xlabel('Predicted')\n",
    "plt.ylabel('True')\n",
    "plt.show()\n",
    "\n",
    "# Relatório de classificação\n",
    "print(classification_report(all_labels, all_preds))"
   ]
  }
 ],
 "metadata": {
  "kernelspec": {
   "display_name": "vae",
   "language": "python",
   "name": "python3"
  },
  "language_info": {
   "codemirror_mode": {
    "name": "ipython",
    "version": 3
   },
   "file_extension": ".py",
   "mimetype": "text/x-python",
   "name": "python",
   "nbconvert_exporter": "python",
   "pygments_lexer": "ipython3",
   "version": "3.9.19"
  }
 },
 "nbformat": 4,
 "nbformat_minor": 2
}
