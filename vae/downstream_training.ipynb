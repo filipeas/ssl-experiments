{
 "cells": [
  {
   "cell_type": "code",
   "execution_count": 21,
   "metadata": {},
   "outputs": [],
   "source": [
    "import torch\n",
    "import os\n",
    "import numpy as np\n",
    "import pandas as pd\n",
    "import torch.nn as nn\n",
    "import torch.optim as optim\n",
    "import matplotlib.pyplot as plt\n",
    "from sklearn.preprocessing import StandardScaler, LabelEncoder\n",
    "from sklearn.metrics import mean_squared_error, mean_absolute_error, r2_score\n",
    "from torch.utils.data import DataLoader, Dataset\n",
    "import torch.nn.functional as F\n",
    "import torch.nn.init as init\n",
    "\n",
    "import seaborn as sns\n",
    "from sklearn.metrics import confusion_matrix, classification_report"
   ]
  },
  {
   "cell_type": "code",
   "execution_count": 22,
   "metadata": {},
   "outputs": [],
   "source": [
    "class CSVLabeledDataset(Dataset):\n",
    "    def __init__(self, csv_file, transform=None):\n",
    "        self.data = pd.read_csv(csv_file)\n",
    "        self.transform = transform\n",
    "\n",
    "        self.features = self.data.iloc[:, :-1].values\n",
    "        self.labels = self.data.iloc[:, -1].values\n",
    "\n",
    "        self.label_encoder = LabelEncoder()\n",
    "        self.labels = self.label_encoder.fit_transform(self.labels)\n",
    "\n",
    "        if self.transform:\n",
    "            self.features = self.transform.fit_transform(self.features)\n",
    "    \n",
    "    def __len__(self):\n",
    "        return len(self.features)\n",
    "    \n",
    "    def __getitem__(self, idx):\n",
    "        sample = torch.tensor(self.features[idx], dtype=torch.float32).unsqueeze(0)\n",
    "        label = torch.tensor(self.labels[idx], dtype=torch.long)\n",
    "        return sample, label\n",
    "    \n",
    "    def get_label_encoder(self):\n",
    "        return self.label_encoder"
   ]
  },
  {
   "cell_type": "code",
   "execution_count": 23,
   "metadata": {},
   "outputs": [],
   "source": [
    "def createDataLoader(train_csv, test_csv, batch_size=32):\n",
    "    scaler = StandardScaler()\n",
    "\n",
    "    train_dataset = CSVLabeledDataset(train_csv, transform=scaler)\n",
    "    test_dataset = CSVLabeledDataset(test_csv, transform=scaler)\n",
    "\n",
    "    train_loader = DataLoader(train_dataset, batch_size=batch_size, shuffle=True)\n",
    "    test_loader = DataLoader(test_dataset, batch_size=batch_size, shuffle=False)\n",
    "\n",
    "    return train_dataset, test_dataset, train_loader, test_loader"
   ]
  },
  {
   "cell_type": "code",
   "execution_count": 24,
   "metadata": {},
   "outputs": [],
   "source": [
    "# Arquivos CSV de treinamento e teste\n",
    "train_csv = 'dataset/hars/train.csv'\n",
    "test_csv = 'dataset/hars/test.csv'\n",
    "\n",
    "train_dataset, test_dataset, train_loader, test_loader = createDataLoader(train_csv, test_csv)"
   ]
  },
  {
   "cell_type": "code",
   "execution_count": 25,
   "metadata": {},
   "outputs": [],
   "source": [
    "# print(len(train_dataset), len(train_loader), len(test_loader))"
   ]
  },
  {
   "cell_type": "code",
   "execution_count": 26,
   "metadata": {},
   "outputs": [
    {
     "name": "stdout",
     "output_type": "stream",
     "text": [
      "torch.Size([32, 1, 562])\n",
      "torch.Size([32])\n"
     ]
    }
   ],
   "source": [
    "for batch_idx, (x, y) in enumerate(train_loader):\n",
    "    print(x.shape)\n",
    "    print(y.shape)\n",
    "    break"
   ]
  },
  {
   "cell_type": "code",
   "execution_count": 27,
   "metadata": {},
   "outputs": [],
   "source": [
    "class TemporalVAE(nn.Module):\n",
    "    def __init__(self, device, input_dim, hidden_dim, latent_dim, num_layers=1):\n",
    "        super(TemporalVAE, self).__init__()\n",
    "\n",
    "        self.encoder_lstm = nn.LSTM(input_dim, hidden_dim, num_layers, batch_first=True, bidirectional=True, dropout=0.2)\n",
    "        self.hidden2mean = nn.Linear(hidden_dim, latent_dim)\n",
    "        self.hidden2logvar = nn.Linear(hidden_dim, latent_dim)\n",
    "        \n",
    "        self.latent2hidden = nn.Linear(latent_dim, hidden_dim)\n",
    "        self.decoder_lstm = nn.LSTM(hidden_dim, input_dim, num_layers, batch_first=True, bidirectional=False, dropout=0.2)\n",
    "        self.output_layer = nn.Linear(input_dim, input_dim)\n",
    "        self.dropout = nn.Dropout(0.2)\n",
    "    \n",
    "    def reparameterize(self, mean, logvar):\n",
    "        std = torch.exp(0.5 * logvar)\n",
    "        eps = torch.randn_like(std).to(device)\n",
    "        return mean + eps * std\n",
    "    \n",
    "    def encode(self, x):\n",
    "        residual = x\n",
    "        output, (h_n, _) = self.encoder_lstm(x)\n",
    "        output = output[:, :, :output.size(2)//2] + output[:, :, output.size(2)//2:]\n",
    "        h_n = output[:, -1, :]\n",
    "        # h_n = h_n[-1, :, :]\n",
    "        h_n = self.dropout(h_n)\n",
    "        mean = torch.sigmoid(self.hidden2mean(h_n))\n",
    "        logvar = torch.sigmoid(self.hidden2logvar(h_n))\n",
    "        return mean, logvar, residual\n",
    "    \n",
    "    def decode(self, z, seq_len, residual):\n",
    "        # hidden = self.latent2hidden(z).unsqueeze(0).repeat(seq_len, 1, 1).transpose(0, 1)\n",
    "        hidden = self.latent2hidden(z).unsqueeze(1).repeat(1, seq_len, 1)\n",
    "\n",
    "        output, _ = self.decoder_lstm(hidden)\n",
    "        output = self.dropout(output)\n",
    "\n",
    "        # output += residual\n",
    "\n",
    "        output = self.output_layer(output)\n",
    "        return output\n",
    "    \n",
    "    def forward(self, x):\n",
    "        mean, logvar, residual = self.encode(x)\n",
    "        z = self.reparameterize(mean, logvar)\n",
    "        seq_len = x.size(1)\n",
    "        recon_x = self.decode(z, seq_len, residual)\n",
    "        return recon_x, mean, logvar"
   ]
  },
  {
   "cell_type": "code",
   "execution_count": 28,
   "metadata": {},
   "outputs": [
    {
     "name": "stdout",
     "output_type": "stream",
     "text": [
      "mps\n"
     ]
    }
   ],
   "source": [
    "if torch.backends.mps.is_available():\n",
    "    device = torch.device(\"mps\")\n",
    "else:\n",
    "    print (\"MPS device not found.\")\n",
    "    device = torch.device('cuda' if torch.cuda.is_available() else 'cpu') # cuda\n",
    "print(device)\n",
    "\n",
    "input_dim = train_dataset.features.shape[1]\n",
    "hidden_dim = 128 # 400\n",
    "latent_dim = 64 # 20\n",
    "num_layers = 2\n",
    "epochs = 100"
   ]
  },
  {
   "cell_type": "code",
   "execution_count": 29,
   "metadata": {},
   "outputs": [
    {
     "name": "stdout",
     "output_type": "stream",
     "text": [
      "TemporalVAE(\n",
      "  (encoder_lstm): LSTM(562, 128, num_layers=2, batch_first=True, dropout=0.2, bidirectional=True)\n",
      "  (hidden2mean): Linear(in_features=128, out_features=64, bias=True)\n",
      "  (hidden2logvar): Linear(in_features=128, out_features=64, bias=True)\n",
      "  (latent2hidden): Linear(in_features=64, out_features=128, bias=True)\n",
      "  (decoder_lstm): LSTM(128, 562, num_layers=2, batch_first=True, dropout=0.2)\n",
      "  (output_layer): Linear(in_features=562, out_features=562, bias=True)\n",
      "  (dropout): Dropout(p=0.2, inplace=False)\n",
      ")\n"
     ]
    }
   ],
   "source": [
    "# carregando modelo\n",
    "model_path = \"model/vae.pth\"\n",
    "\n",
    "# Criar uma instância do modelo\n",
    "model = TemporalVAE(device, input_dim, hidden_dim, latent_dim, num_layers).to(device)\n",
    "\n",
    "# Carregar o estado salvo\n",
    "state_dict = torch.load(model_path)\n",
    "\n",
    "# Carregar o estado no modelo\n",
    "model.load_state_dict(state_dict)\n",
    "\n",
    "print(model)"
   ]
  },
  {
   "cell_type": "code",
   "execution_count": 30,
   "metadata": {},
   "outputs": [],
   "source": [
    "# # Função para extrair vetores latentes\n",
    "# def extract_latent_vectors(model, data_loader):\n",
    "#     latents = []\n",
    "#     labels = []\n",
    "#     with torch.no_grad():\n",
    "#         for data, label in data_loader:\n",
    "#             data = data.to(device)\n",
    "#             mean, logvar, _ = model.encode(data)\n",
    "#             latents.append(mean.cpu().numpy())\n",
    "#             labels.append(label.cpu().numpy())\n",
    "#     return np.vstack(latents), np.hstack(labels)\n",
    "\n",
    "# # Extrair vetores latentes\n",
    "# train_latents, train_labels = extract_latent_vectors(model, train_loader)\n",
    "# test_latents, test_labels = extract_latent_vectors(model, test_loader)"
   ]
  },
  {
   "cell_type": "code",
   "execution_count": 31,
   "metadata": {},
   "outputs": [
    {
     "name": "stdout",
     "output_type": "stream",
     "text": [
      "(7352, 64) (2947, 64)\n",
      "[[0.48585942 0.5011762  0.49068755 ... 0.47771725 0.49875984 0.47792423]\n",
      " [0.4990093  0.5117892  0.49116087 ... 0.5117176  0.41974252 0.54256684]\n",
      " [0.5136604  0.5096865  0.49176905 ... 0.48500267 0.5135598  0.50459266]\n",
      " ...\n",
      " [0.5035616  0.47917795 0.50967073 ... 0.4998727  0.5001191  0.496023  ]\n",
      " [0.49655455 0.49685454 0.5020224  ... 0.5536226  0.48680675 0.49211454]\n",
      " [0.49656808 0.54075027 0.49346778 ... 0.4781844  0.5178165  0.4898844 ]]\n"
     ]
    }
   ],
   "source": [
    "# print(train_latents.shape, test_latents.shape)\n",
    "# print(train_latents)"
   ]
  },
  {
   "cell_type": "code",
   "execution_count": 32,
   "metadata": {},
   "outputs": [],
   "source": [
    "class Net(nn.Module):\n",
    "    def __init__(self, model, input_dim):\n",
    "        super(Net, self).__init__()\n",
    "        self.encode = model\n",
    "\n",
    "        # usando o encoder do VAE com espaco latente (acc ~ 78%)\n",
    "        self.fc1 = nn.Linear(64, 64)\n",
    "        self.dropout = nn.Dropout(0.2)\n",
    "        self.fc2 = nn.Linear(64, 6)\n",
    "\n",
    "        # (ERRADO) usando o encoder do VAE com residuo (acc ~ 90%)\n",
    "        # self.latent2hidden = nn.Linear(64, 128)\n",
    "        # self.decoder_lstm = nn.LSTM(128, input_dim, 6, batch_first=True, bidirectional=False, dropout=0.2)\n",
    "        # self.output_layer = nn.Linear(input_dim, input_dim)\n",
    "        # self.fc1 = nn.Linear(input_dim, 64)\n",
    "        # self.dropout = nn.Dropout(0.2)\n",
    "        # self.fc2 = nn.Linear(64, 6)\n",
    "\n",
    "        # (ERRADO) usando o VAE completo (acc ~ 95%)\n",
    "        # self.fc1 = nn.Linear(input_dim, 64)\n",
    "        # self.dropout = nn.Dropout(0.2)\n",
    "        # self.fc2 = nn.Linear(64, 6)\n",
    "\n",
    "        # Freeze encoder parameters\n",
    "        for param in model.parameters():\n",
    "            param.requires_grad = False\n",
    "        \n",
    "    def forward(self, x):\n",
    "        # usando o encoder do VAE com espaco latente (acc ~ 78%)\n",
    "        mean, logvar, residual = self.encode.encode(x)\n",
    "        # print(mean)\n",
    "        # z = self.encode.reparameterize(mean, logvar)\n",
    "        # print(z.shape)\n",
    "        x = torch.sigmoid(self.fc1(mean)) #  self.fc1(mean)\n",
    "        x = self.dropout(x)\n",
    "        x = self.fc2(x)\n",
    "\n",
    "        # (ERRADO) usando encoder do VAE, somando o residuo e expandindo para o shape original (acc ~ 90%)\n",
    "        # mean, logvar, residual = self.encode.encode(x)\n",
    "        # z = self.encode.reparameterize(mean, logvar)\n",
    "        # # print(z)\n",
    "        # seq_len = x.size(1)\n",
    "        # x = self.latent2hidden(z).unsqueeze(1).repeat(1, seq_len, 1).view(z.size(0), -1)\n",
    "        # x, _ = self.decoder_lstm(x)\n",
    "        # x = self.dropout(x)\n",
    "        # residual = residual.squeeze(1)\n",
    "        # x += residual\n",
    "        # x = self.output_layer(x)\n",
    "        # x = torch.sigmoid(self.fc1(x)) #  self.fc1(mean)\n",
    "        # x = self.dropout(x)\n",
    "        # x = self.fc2(x)\n",
    "\n",
    "        # print(\"mean output shape:\", mean.shape)\n",
    "        # print(\"logvar output shape:\", logvar.shape)\n",
    "        # print(\"residual output shape:\", residual.shape)\n",
    "        # print(\"z output shape:\", z.shape)\n",
    "        # print(\"seq_len output shape:\", seq_len)\n",
    "        # print(\"x output shape:\", x.shape)\n",
    "        # return\n",
    "\n",
    "        # (ERRADO) usando o VAE completo (acc ~ 95%)\n",
    "        # recon_x, mean, logvar = self.encode.forward(x)\n",
    "        # # print(recon_x)\n",
    "        # x = torch.sigmoid(self.fc1(recon_x.view(recon_x.size(0), -1))) #  self.fc1(mean)\n",
    "        # x = self.dropout(x)\n",
    "        # x = self.fc2(x)\n",
    "        return x"
   ]
  },
  {
   "cell_type": "code",
   "execution_count": 33,
   "metadata": {},
   "outputs": [],
   "source": [
    "def init_weights(m):\n",
    "    if isinstance(m, nn.Linear):\n",
    "        init.xavier_uniform_(m.weight)\n",
    "        init.zeros_(m.bias)"
   ]
  },
  {
   "cell_type": "code",
   "execution_count": 34,
   "metadata": {},
   "outputs": [
    {
     "name": "stdout",
     "output_type": "stream",
     "text": [
      "Net(\n",
      "  (encode): TemporalVAE(\n",
      "    (encoder_lstm): LSTM(562, 128, num_layers=2, batch_first=True, dropout=0.2, bidirectional=True)\n",
      "    (hidden2mean): Linear(in_features=128, out_features=64, bias=True)\n",
      "    (hidden2logvar): Linear(in_features=128, out_features=64, bias=True)\n",
      "    (latent2hidden): Linear(in_features=64, out_features=128, bias=True)\n",
      "    (decoder_lstm): LSTM(128, 562, num_layers=2, batch_first=True, dropout=0.2)\n",
      "    (output_layer): Linear(in_features=562, out_features=562, bias=True)\n",
      "    (dropout): Dropout(p=0.2, inplace=False)\n",
      "  )\n",
      "  (fc1): Linear(in_features=64, out_features=64, bias=True)\n",
      "  (dropout): Dropout(p=0.2, inplace=False)\n",
      "  (fc2): Linear(in_features=64, out_features=6, bias=True)\n",
      ")\n"
     ]
    }
   ],
   "source": [
    "net = Net(model, input_dim=input_dim).to(device)\n",
    "net.apply(init_weights)\n",
    "criterion = nn.CrossEntropyLoss()\n",
    "optimizer = optim.Adam(filter(lambda p: p.requires_grad, net.parameters()), lr=0.001)\n",
    "\n",
    "print(net)"
   ]
  },
  {
   "cell_type": "code",
   "execution_count": 35,
   "metadata": {},
   "outputs": [],
   "source": [
    "def trainModel(model, train_loader, criterion, optimizer, device):\n",
    "  model.train()\n",
    "  running_loss = 0.0\n",
    "  correct = 0\n",
    "  total = 0\n",
    "\n",
    "  for x, y in train_loader:\n",
    "    data = x.to(device)\n",
    "    label = y.to(device)\n",
    "    \n",
    "    optimizer.zero_grad()\n",
    "    logits = model(data)\n",
    "    loss = criterion(logits, label)\n",
    "    loss.backward()\n",
    "    optimizer.step()\n",
    "\n",
    "    running_loss += loss.item()\n",
    "    _, predicted = logits.max(1)\n",
    "    total += label.size(0)\n",
    "    correct += predicted.eq(label).sum().item()\n",
    "\n",
    "  epoch_loss = running_loss / len(train_loader)\n",
    "  epoch_acc = 100. * correct / total\n",
    "  return epoch_loss, epoch_acc\n",
    "\n",
    "def evalModel(model, val_loader, criterion, device):\n",
    "  model.eval()\n",
    "  running_loss = 0.0\n",
    "  correct = 0\n",
    "  total = 0\n",
    "\n",
    "  with torch.no_grad():\n",
    "    for x, y in val_loader:\n",
    "      data = x.to(device)\n",
    "      label = y.to(device)\n",
    "      logits = model(data)\n",
    "      loss = criterion(logits, label)\n",
    "\n",
    "      running_loss += loss.item()\n",
    "      _, predicted = logits.max(1)\n",
    "      total += label.size(0)\n",
    "      correct += predicted.eq(label).sum().item()\n",
    "\n",
    "  epoch_loss = running_loss / len(val_loader)\n",
    "  epoch_acc = 100. * correct / total\n",
    "  return epoch_loss, epoch_acc"
   ]
  },
  {
   "cell_type": "code",
   "execution_count": 36,
   "metadata": {},
   "outputs": [
    {
     "name": "stdout",
     "output_type": "stream",
     "text": [
      "Epoch 1/100, Train Loss: 1.7888, Train Acc: 20.80, Val Loss: 1.7265, Val Acc: 20.26\n",
      "Epoch 2/100, Train Loss: 1.6962, Train Acc: 27.75, Val Loss: 1.6377, Val Acc: 30.37\n",
      "Epoch 3/100, Train Loss: 1.6018, Train Acc: 34.68, Val Loss: 1.5293, Val Acc: 47.91\n",
      "Epoch 4/100, Train Loss: 1.4876, Train Acc: 41.38, Val Loss: 1.4010, Val Acc: 62.27\n",
      "Epoch 5/100, Train Loss: 1.3856, Train Acc: 45.70, Val Loss: 1.3010, Val Acc: 66.78\n",
      "Epoch 6/100, Train Loss: 1.3021, Train Acc: 48.87, Val Loss: 1.1969, Val Acc: 66.81\n",
      "Epoch 7/100, Train Loss: 1.2177, Train Acc: 52.67, Val Loss: 1.1140, Val Acc: 76.79\n",
      "Epoch 8/100, Train Loss: 1.1563, Train Acc: 54.37, Val Loss: 1.0641, Val Acc: 72.48\n",
      "Epoch 9/100, Train Loss: 1.0941, Train Acc: 57.71, Val Loss: 0.9912, Val Acc: 80.01\n",
      "Epoch 10/100, Train Loss: 1.0413, Train Acc: 59.87, Val Loss: 0.9403, Val Acc: 80.90\n",
      "Epoch 11/100, Train Loss: 1.0057, Train Acc: 61.40, Val Loss: 0.8993, Val Acc: 80.15\n",
      "Epoch 12/100, Train Loss: 0.9719, Train Acc: 61.40, Val Loss: 0.8689, Val Acc: 77.71\n",
      "Epoch 13/100, Train Loss: 0.9315, Train Acc: 63.68, Val Loss: 0.8256, Val Acc: 77.71\n",
      "Epoch 14/100, Train Loss: 0.9117, Train Acc: 64.31, Val Loss: 0.7968, Val Acc: 80.73\n",
      "Epoch 15/100, Train Loss: 0.8749, Train Acc: 65.32, Val Loss: 0.7679, Val Acc: 79.13\n",
      "Epoch 16/100, Train Loss: 0.8592, Train Acc: 65.81, Val Loss: 0.7438, Val Acc: 81.07\n",
      "Epoch 17/100, Train Loss: 0.8343, Train Acc: 66.95, Val Loss: 0.7277, Val Acc: 79.67\n",
      "Epoch 18/100, Train Loss: 0.8308, Train Acc: 67.04, Val Loss: 0.7129, Val Acc: 80.35\n",
      "Epoch 19/100, Train Loss: 0.7959, Train Acc: 67.75, Val Loss: 0.6988, Val Acc: 78.55\n",
      "Epoch 20/100, Train Loss: 0.7919, Train Acc: 68.35, Val Loss: 0.6800, Val Acc: 80.66\n",
      "Epoch 21/100, Train Loss: 0.7789, Train Acc: 68.72, Val Loss: 0.6660, Val Acc: 79.47\n",
      "Epoch 22/100, Train Loss: 0.7675, Train Acc: 69.12, Val Loss: 0.6569, Val Acc: 79.37\n",
      "Epoch 23/100, Train Loss: 0.7552, Train Acc: 68.74, Val Loss: 0.6471, Val Acc: 80.01\n",
      "Epoch 24/100, Train Loss: 0.7446, Train Acc: 70.32, Val Loss: 0.6298, Val Acc: 81.03\n",
      "Epoch 25/100, Train Loss: 0.7292, Train Acc: 70.59, Val Loss: 0.6198, Val Acc: 81.40\n",
      "Epoch 26/100, Train Loss: 0.7271, Train Acc: 69.87, Val Loss: 0.6252, Val Acc: 79.44\n",
      "Epoch 27/100, Train Loss: 0.7014, Train Acc: 71.79, Val Loss: 0.6048, Val Acc: 80.96\n",
      "Epoch 28/100, Train Loss: 0.7193, Train Acc: 70.91, Val Loss: 0.6096, Val Acc: 78.08\n",
      "Epoch 29/100, Train Loss: 0.7012, Train Acc: 71.63, Val Loss: 0.6013, Val Acc: 78.86\n",
      "Epoch 30/100, Train Loss: 0.7009, Train Acc: 71.30, Val Loss: 0.5921, Val Acc: 77.91\n",
      "Epoch 31/100, Train Loss: 0.6868, Train Acc: 72.39, Val Loss: 0.5788, Val Acc: 81.68\n",
      "Epoch 32/100, Train Loss: 0.6864, Train Acc: 72.17, Val Loss: 0.5791, Val Acc: 79.74\n",
      "Epoch 33/100, Train Loss: 0.6766, Train Acc: 71.87, Val Loss: 0.5689, Val Acc: 79.95\n",
      "Epoch 34/100, Train Loss: 0.6659, Train Acc: 72.84, Val Loss: 0.5676, Val Acc: 82.56\n",
      "Epoch 35/100, Train Loss: 0.6625, Train Acc: 73.38, Val Loss: 0.5625, Val Acc: 81.54\n",
      "Epoch 36/100, Train Loss: 0.6531, Train Acc: 73.05, Val Loss: 0.5593, Val Acc: 80.59\n",
      "Epoch 37/100, Train Loss: 0.6630, Train Acc: 73.56, Val Loss: 0.5547, Val Acc: 81.71\n",
      "Epoch 38/100, Train Loss: 0.6583, Train Acc: 72.80, Val Loss: 0.5471, Val Acc: 82.52\n",
      "Epoch 39/100, Train Loss: 0.6459, Train Acc: 73.44, Val Loss: 0.5412, Val Acc: 82.02\n",
      "Epoch 40/100, Train Loss: 0.6472, Train Acc: 73.29, Val Loss: 0.5442, Val Acc: 81.47\n",
      "Epoch 41/100, Train Loss: 0.6474, Train Acc: 73.68, Val Loss: 0.5438, Val Acc: 81.47\n",
      "Epoch 42/100, Train Loss: 0.6352, Train Acc: 73.84, Val Loss: 0.5345, Val Acc: 82.56\n",
      "Epoch 43/100, Train Loss: 0.6285, Train Acc: 74.59, Val Loss: 0.5317, Val Acc: 82.76\n",
      "Epoch 44/100, Train Loss: 0.6308, Train Acc: 73.98, Val Loss: 0.5305, Val Acc: 81.03\n",
      "Epoch 45/100, Train Loss: 0.6265, Train Acc: 74.25, Val Loss: 0.5295, Val Acc: 82.35\n",
      "Epoch 46/100, Train Loss: 0.6288, Train Acc: 74.35, Val Loss: 0.5222, Val Acc: 82.49\n",
      "Epoch 47/100, Train Loss: 0.6158, Train Acc: 74.80, Val Loss: 0.5164, Val Acc: 81.13\n",
      "Epoch 48/100, Train Loss: 0.6191, Train Acc: 74.63, Val Loss: 0.5183, Val Acc: 82.02\n",
      "Epoch 49/100, Train Loss: 0.6187, Train Acc: 74.29, Val Loss: 0.5158, Val Acc: 82.08\n",
      "Epoch 50/100, Train Loss: 0.6002, Train Acc: 76.09, Val Loss: 0.5044, Val Acc: 82.59\n",
      "Epoch 51/100, Train Loss: 0.6069, Train Acc: 74.92, Val Loss: 0.5051, Val Acc: 82.73\n",
      "Epoch 52/100, Train Loss: 0.6056, Train Acc: 75.26, Val Loss: 0.5187, Val Acc: 82.83\n",
      "Epoch 53/100, Train Loss: 0.5970, Train Acc: 75.33, Val Loss: 0.5006, Val Acc: 82.63\n",
      "Epoch 54/100, Train Loss: 0.6006, Train Acc: 75.01, Val Loss: 0.5020, Val Acc: 82.25\n",
      "Epoch 55/100, Train Loss: 0.5944, Train Acc: 75.99, Val Loss: 0.4950, Val Acc: 82.86\n",
      "Epoch 56/100, Train Loss: 0.5890, Train Acc: 76.06, Val Loss: 0.5009, Val Acc: 82.05\n",
      "Epoch 57/100, Train Loss: 0.5848, Train Acc: 76.09, Val Loss: 0.4948, Val Acc: 82.22\n",
      "Epoch 58/100, Train Loss: 0.5887, Train Acc: 75.99, Val Loss: 0.5021, Val Acc: 82.19\n",
      "Epoch 59/100, Train Loss: 0.5842, Train Acc: 75.83, Val Loss: 0.4918, Val Acc: 82.42\n",
      "Epoch 60/100, Train Loss: 0.5861, Train Acc: 76.18, Val Loss: 0.4915, Val Acc: 82.73\n",
      "Epoch 61/100, Train Loss: 0.5852, Train Acc: 76.03, Val Loss: 0.4919, Val Acc: 82.49\n",
      "Epoch 62/100, Train Loss: 0.5793, Train Acc: 76.71, Val Loss: 0.4859, Val Acc: 82.56\n",
      "Epoch 63/100, Train Loss: 0.5770, Train Acc: 76.25, Val Loss: 0.4870, Val Acc: 82.97\n",
      "Epoch 64/100, Train Loss: 0.5736, Train Acc: 76.26, Val Loss: 0.4791, Val Acc: 82.97\n",
      "Epoch 65/100, Train Loss: 0.5795, Train Acc: 76.16, Val Loss: 0.4960, Val Acc: 82.22\n",
      "Epoch 66/100, Train Loss: 0.5743, Train Acc: 76.41, Val Loss: 0.4802, Val Acc: 83.24\n",
      "Epoch 67/100, Train Loss: 0.5699, Train Acc: 77.01, Val Loss: 0.4799, Val Acc: 82.83\n",
      "Epoch 68/100, Train Loss: 0.5670, Train Acc: 76.50, Val Loss: 0.4734, Val Acc: 83.17\n",
      "Epoch 69/100, Train Loss: 0.5612, Train Acc: 76.81, Val Loss: 0.4739, Val Acc: 82.90\n",
      "Epoch 70/100, Train Loss: 0.5669, Train Acc: 77.34, Val Loss: 0.4732, Val Acc: 82.90\n",
      "Epoch 71/100, Train Loss: 0.5654, Train Acc: 77.58, Val Loss: 0.4741, Val Acc: 82.63\n",
      "Epoch 72/100, Train Loss: 0.5526, Train Acc: 77.30, Val Loss: 0.4695, Val Acc: 82.59\n",
      "Epoch 73/100, Train Loss: 0.5704, Train Acc: 76.24, Val Loss: 0.4757, Val Acc: 82.25\n",
      "Epoch 74/100, Train Loss: 0.5660, Train Acc: 77.20, Val Loss: 0.4761, Val Acc: 82.66\n",
      "Epoch 75/100, Train Loss: 0.5513, Train Acc: 77.63, Val Loss: 0.4756, Val Acc: 83.17\n",
      "Epoch 76/100, Train Loss: 0.5610, Train Acc: 77.22, Val Loss: 0.4687, Val Acc: 83.07\n",
      "Epoch 77/100, Train Loss: 0.5488, Train Acc: 77.82, Val Loss: 0.4671, Val Acc: 83.68\n",
      "Epoch 78/100, Train Loss: 0.5536, Train Acc: 77.29, Val Loss: 0.4655, Val Acc: 83.00\n",
      "Epoch 79/100, Train Loss: 0.5412, Train Acc: 78.11, Val Loss: 0.4638, Val Acc: 83.98\n",
      "Epoch 80/100, Train Loss: 0.5417, Train Acc: 78.02, Val Loss: 0.4653, Val Acc: 83.34\n",
      "Epoch 81/100, Train Loss: 0.5545, Train Acc: 77.19, Val Loss: 0.4675, Val Acc: 83.44\n",
      "Epoch 82/100, Train Loss: 0.5485, Train Acc: 77.29, Val Loss: 0.4643, Val Acc: 82.97\n",
      "Epoch 83/100, Train Loss: 0.5448, Train Acc: 77.77, Val Loss: 0.4665, Val Acc: 82.93\n",
      "Epoch 84/100, Train Loss: 0.5566, Train Acc: 77.68, Val Loss: 0.4605, Val Acc: 83.27\n",
      "Epoch 85/100, Train Loss: 0.5334, Train Acc: 77.77, Val Loss: 0.4590, Val Acc: 82.93\n",
      "Epoch 86/100, Train Loss: 0.5427, Train Acc: 77.71, Val Loss: 0.4572, Val Acc: 83.41\n",
      "Epoch 87/100, Train Loss: 0.5359, Train Acc: 78.20, Val Loss: 0.4651, Val Acc: 83.37\n",
      "Epoch 88/100, Train Loss: 0.5375, Train Acc: 78.09, Val Loss: 0.4595, Val Acc: 82.90\n",
      "Epoch 89/100, Train Loss: 0.5296, Train Acc: 78.73, Val Loss: 0.4541, Val Acc: 83.07\n",
      "Epoch 90/100, Train Loss: 0.5379, Train Acc: 77.29, Val Loss: 0.4537, Val Acc: 83.92\n",
      "Epoch 91/100, Train Loss: 0.5303, Train Acc: 77.83, Val Loss: 0.4548, Val Acc: 82.93\n",
      "Epoch 92/100, Train Loss: 0.5289, Train Acc: 78.17, Val Loss: 0.4614, Val Acc: 82.22\n",
      "Epoch 93/100, Train Loss: 0.5283, Train Acc: 78.81, Val Loss: 0.4539, Val Acc: 83.41\n",
      "Epoch 94/100, Train Loss: 0.5188, Train Acc: 78.81, Val Loss: 0.4532, Val Acc: 83.14\n",
      "Epoch 95/100, Train Loss: 0.5284, Train Acc: 78.88, Val Loss: 0.4515, Val Acc: 82.93\n",
      "Epoch 96/100, Train Loss: 0.5348, Train Acc: 77.99, Val Loss: 0.4526, Val Acc: 83.68\n",
      "Epoch 97/100, Train Loss: 0.5330, Train Acc: 78.10, Val Loss: 0.4581, Val Acc: 83.61\n",
      "Epoch 98/100, Train Loss: 0.5320, Train Acc: 78.65, Val Loss: 0.4556, Val Acc: 83.98\n",
      "Epoch 99/100, Train Loss: 0.5315, Train Acc: 77.92, Val Loss: 0.4489, Val Acc: 84.32\n",
      "Epoch 100/100, Train Loss: 0.5400, Train Acc: 78.26, Val Loss: 0.4464, Val Acc: 84.09\n"
     ]
    }
   ],
   "source": [
    "train_losses = []\n",
    "train_accuracies = []\n",
    "val_losses = []\n",
    "val_accuracies = []\n",
    "\n",
    "best_val_acc = 0.0\n",
    "\n",
    "for epoch in range(epochs):\n",
    "  train_loss, train_acc = trainModel(net, train_loader, criterion, optimizer, device)\n",
    "  val_loss, val_acc = evalModel(net, test_loader, criterion, device)\n",
    "\n",
    "  train_losses.append(train_loss)\n",
    "  train_accuracies.append(train_acc)\n",
    "\n",
    "  val_losses.append(val_loss)\n",
    "  val_accuracies.append(val_acc)\n",
    "\n",
    "  print(f'Epoch {epoch+1}/{epochs}, Train Loss: {train_loss:.4f}, Train Acc: {train_acc:.2f}, Val Loss: {val_loss:.4f}, Val Acc: {val_acc:.2f}')"
   ]
  },
  {
   "cell_type": "code",
   "execution_count": 37,
   "metadata": {},
   "outputs": [
    {
     "name": "stdout",
     "output_type": "stream",
     "text": [
      "Test Loss: 0.4464, Test Acc: 84.09\n"
     ]
    }
   ],
   "source": [
    "# avaliando modelo sem augmentation\n",
    "test_loss, test_acc = evalModel(net, test_loader, criterion, device)\n",
    "print(f'Test Loss: {test_loss:.4f}, Test Acc: {test_acc:.2f}') # Test Loss: 1.6467, Test Acc: 35.87"
   ]
  },
  {
   "cell_type": "code",
   "execution_count": 38,
   "metadata": {},
   "outputs": [
    {
     "data": {
      "image/png": "[encoded data removed]",
      "text/plain": [
       "<Figure size 1400x500 with 2 Axes>"
      ]
     },
     "metadata": {},
     "output_type": "display_data"
    }
   ],
   "source": [
    "# Plotando a perda e a precisão do modelo sem augmentation\n",
    "epocas = range(1, epochs + 1) # é 36 epocas porque com early stopping so rodou 36 epocas\n",
    "\n",
    "plt.figure(figsize=(14, 5))\n",
    "\n",
    "plt.subplot(1, 2, 1)\n",
    "plt.plot(epocas, train_losses, 'r', label='Train Loss')\n",
    "plt.plot(epocas, val_losses, 'b', label='Validation Loss')\n",
    "plt.title('Train and Validation Loss')\n",
    "plt.xlabel('Epochs')\n",
    "plt.ylabel('Loss')\n",
    "plt.legend()\n",
    "\n",
    "plt.subplot(1, 2, 2)\n",
    "plt.plot(epocas, train_accuracies, 'r', label='Train Accuracy')\n",
    "plt.plot(epocas, val_accuracies, 'b', label='Validation Accuracy')\n",
    "plt.title('Train and Validation Accuracy')\n",
    "plt.xlabel('Epochs')\n",
    "plt.ylabel('Accuracy')\n",
    "plt.legend()\n",
    "\n",
    "plt.show()"
   ]
  },
  {
   "cell_type": "code",
   "execution_count": 39,
   "metadata": {},
   "outputs": [
    {
     "data": {
      "image/png": "[encoded data removed]",
      "text/plain": [
       "<Figure size 1000x800 with 2 Axes>"
      ]
     },
     "metadata": {},
     "output_type": "display_data"
    },
    {
     "name": "stdout",
     "output_type": "stream",
     "text": [
      "              precision    recall  f1-score   support\n",
      "\n",
      "           0       0.96      0.93      0.95       537\n",
      "           1       0.80      0.67      0.73       491\n",
      "           2       0.74      0.89      0.81       532\n",
      "           3       0.91      0.88      0.90       496\n",
      "           4       0.83      0.78      0.80       420\n",
      "           5       0.82      0.88      0.85       471\n",
      "\n",
      "    accuracy                           0.84      2947\n",
      "   macro avg       0.84      0.84      0.84      2947\n",
      "weighted avg       0.84      0.84      0.84      2947\n",
      "\n"
     ]
    }
   ],
   "source": [
    "# Obter previsões do conjunto de teste\n",
    "net.eval()\n",
    "all_preds = []\n",
    "all_labels = []\n",
    "with torch.no_grad():\n",
    "    for batch_idx, (x, y) in enumerate(test_loader):\n",
    "        data = x.to(device)\n",
    "        label = y.to(device)\n",
    "        outputs = net(data)\n",
    "        _, preds = outputs.max(1)\n",
    "        all_preds.extend(preds.cpu().numpy())\n",
    "        all_labels.extend(label.cpu().numpy())\n",
    "\n",
    "# Calcular a matriz de confusão\n",
    "cm = confusion_matrix(all_labels, all_preds)\n",
    "\n",
    "# Visualizar a matriz de confusão\n",
    "plt.figure(figsize=(10, 8))\n",
    "sns.heatmap(cm, annot=True, fmt='d', cmap='Blues')\n",
    "plt.title('Confusion Matrix')\n",
    "plt.xlabel('Predicted')\n",
    "plt.ylabel('True')\n",
    "plt.show()\n",
    "\n",
    "# Relatório de classificação\n",
    "print(classification_report(all_labels, all_preds))"
   ]
  }
 ],
 "metadata": {
  "kernelspec": {
   "display_name": "vae",
   "language": "python",
   "name": "python3"
  },
  "language_info": {
   "codemirror_mode": {
    "name": "ipython",
    "version": 3
   },
   "file_extension": ".py",
   "mimetype": "text/x-python",
   "name": "python",
   "nbconvert_exporter": "python",
   "pygments_lexer": "ipython3",
   "version": "3.9.19"
  }
 },
 "nbformat": 4,
 "nbformat_minor": 2
}
