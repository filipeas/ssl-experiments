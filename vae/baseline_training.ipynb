{
 "cells": [
  {
   "cell_type": "code",
   "execution_count": 230,
   "metadata": {},
   "outputs": [],
   "source": [
    "import pandas as pd\n",
    "from sklearn.preprocessing import LabelEncoder, StandardScaler\n",
    "from torch.utils.data import Dataset, DataLoader\n",
    "import torch\n",
    "import torch.nn as nn\n",
    "import torch.optim as optim\n",
    "\n",
    "import matplotlib.pyplot as plt\n",
    "import seaborn as sns\n",
    "from sklearn.metrics import confusion_matrix, classification_report\n",
    "\n",
    "from sklearn.model_selection import train_test_split"
   ]
  },
  {
   "cell_type": "markdown",
   "metadata": {},
   "source": [
    "### Carregando Dataset do professor"
   ]
  },
  {
   "cell_type": "code",
   "execution_count": 231,
   "metadata": {},
   "outputs": [
    {
     "name": "stdout",
     "output_type": "stream",
     "text": [
      "shape train:  (60, 360)\n",
      "shape test:  (24, 360)\n",
      "shape valid:  (24, 360)\n",
      "(60,) (24,) (24,)\n"
     ]
    }
   ],
   "source": [
    "# testando amostras do professor\n",
    "df_train = pd.read_csv('dataset/har-example-mo436/train.csv')\n",
    "df_test = pd.read_csv('dataset/har-example-mo436/test.csv')\n",
    "df_val = pd.read_csv('dataset/har-example-mo436/validation.csv')\n",
    "\n",
    "# pegando só porcentagens das amostras\n",
    "percent = 100\n",
    "porcentagem = f\"predictions_{percent}_m2\"\n",
    "# df_90, df_10 = train_test_split(df_train, test_size=percent/100, random_state=42) # dataframes de treino e validacao\n",
    "# df_train = df_10\n",
    "\n",
    "X_train = df_train.drop(columns=[df_train.columns[0], 'gyro-end-time', 'level_0', 'accel-end-time', 'gyro-start-time', 'index', 'user', 'serial', 'accel-start-time', 'csv', 'timestamp diff', 'activity code', 'window', 'standard activity code'])\n",
    "X_test = df_test.drop(columns=[df_train.columns[0], 'gyro-end-time', 'level_0', 'accel-end-time', 'gyro-start-time', 'index', 'user', 'serial', 'accel-start-time', 'csv', 'timestamp diff', 'activity code', 'window', 'standard activity code'])\n",
    "X_val = df_val.drop(columns=[df_train.columns[0], 'gyro-end-time', 'level_0', 'accel-end-time', 'gyro-start-time', 'index', 'user', 'serial', 'accel-start-time', 'csv', 'timestamp diff', 'activity code', 'window', 'standard activity code'])\n",
    "\n",
    "y_train = df_train.pop('standard activity code')\n",
    "y_test = df_test.pop('standard activity code')\n",
    "y_val = df_val.pop('standard activity code')\n",
    "\n",
    "print(\"shape train: \", X_train.shape)\n",
    "print(\"shape test: \", X_test.shape)\n",
    "print(\"shape valid: \", X_val.shape)\n",
    "print(y_train.shape, y_test.shape, y_val.shape)"
   ]
  },
  {
   "cell_type": "markdown",
   "metadata": {},
   "source": [
    "### Dataset e Dataloader"
   ]
  },
  {
   "cell_type": "code",
   "execution_count": 232,
   "metadata": {},
   "outputs": [],
   "source": [
    "class CSVLabeledDataset(Dataset):\n",
    "    def __init__(self, X, y, transform=None):\n",
    "        self.transform = transform\n",
    "\n",
    "        self.features = X\n",
    "        self.labels = y\n",
    "\n",
    "        if self.transform:\n",
    "            self.features = self.transform(self.features)\n",
    "    \n",
    "    def __len__(self):\n",
    "        return len(self.features)\n",
    "    \n",
    "    def __getitem__(self, idx):\n",
    "        sample = torch.tensor(self.features[idx], dtype=torch.float32)#.unsqueeze(0)\n",
    "        label = torch.tensor(self.labels[idx], dtype=torch.long)\n",
    "        return sample, label"
   ]
  },
  {
   "cell_type": "code",
   "execution_count": 233,
   "metadata": {},
   "outputs": [],
   "source": [
    "class Jitter:\n",
    "    def __init__(self, sigma=0.01):\n",
    "        self.sigma = sigma\n",
    "\n",
    "    def __call__(self, x):\n",
    "        noise = np.random.normal(loc=0, scale=self.sigma, size=x.shape)\n",
    "        return x + noise\n",
    "\n",
    "class Scaling:\n",
    "    def __init__(self, sigma=0.1):\n",
    "        self.sigma = sigma\n",
    "\n",
    "    def __call__(self, x):\n",
    "        factor = np.random.normal(loc=1.0, scale=self.sigma)\n",
    "        return x * factor\n",
    "\n",
    "class TimeShift:\n",
    "    def __init__(self, max_shift=50):\n",
    "        self.max_shift = max_shift\n",
    "\n",
    "    def __call__(self, x):\n",
    "        shift = np.random.randint(-self.max_shift, self.max_shift)\n",
    "        return np.roll(x, shift)\n",
    "\n",
    "# classe de transformacoes nos dados\n",
    "class Compose:\n",
    "    def __init__(self, transforms):\n",
    "        self.transforms = transforms\n",
    "\n",
    "    def __call__(self, x):\n",
    "        for t in self.transforms:\n",
    "            if callable(t):\n",
    "                x = t(x)\n",
    "            else:\n",
    "                x = t.fit_transform(x)\n",
    "        return x"
   ]
  },
  {
   "cell_type": "code",
   "execution_count": 234,
   "metadata": {},
   "outputs": [],
   "source": [
    "def createDataLoader(X_train, X_test, X_val, y_train, y_test, y_val, batch_size=32):\n",
    "    # scaler = StandardScaler()\n",
    "    train_transform = Compose([\n",
    "        StandardScaler(),\n",
    "        # Jitter(),\n",
    "        # Scaling(),\n",
    "        # TimeShift()\n",
    "    ])\n",
    "    valid_test_transform = Compose([\n",
    "        StandardScaler()\n",
    "    ])\n",
    "\n",
    "    train_dataset = CSVLabeledDataset(X_train, y_train, transform=train_transform)\n",
    "    test_dataset = CSVLabeledDataset(X_test, y_test, transform=valid_test_transform)\n",
    "    val_dataset = CSVLabeledDataset(X_val, y_val, transform=valid_test_transform)\n",
    "\n",
    "    train_loader = DataLoader(train_dataset, batch_size=batch_size, shuffle=True)\n",
    "    test_loader = DataLoader(test_dataset, batch_size=batch_size, shuffle=False)\n",
    "    val_loader = DataLoader(val_dataset, batch_size=batch_size, shuffle=False)\n",
    "\n",
    "    return train_dataset, test_dataset, val_dataset, train_loader, test_loader, val_loader"
   ]
  },
  {
   "cell_type": "code",
   "execution_count": 235,
   "metadata": {},
   "outputs": [],
   "source": [
    "train_dataset, test_dataset, val_dataset, train_loader, test_loader, val_loader = createDataLoader(X_train.values, X_test.values, X_val.values, y_train.values, y_test.values, y_val.values)"
   ]
  },
  {
   "cell_type": "code",
   "execution_count": 236,
   "metadata": {},
   "outputs": [
    {
     "name": "stdout",
     "output_type": "stream",
     "text": [
      "torch.Size([32, 360]) torch.Size([32])\n"
     ]
    }
   ],
   "source": [
    "for batch_idx, (x, y) in enumerate(train_loader):\n",
    "    print(x.shape, y.shape)\n",
    "    break"
   ]
  },
  {
   "cell_type": "code",
   "execution_count": 237,
   "metadata": {},
   "outputs": [],
   "source": [
    "class Net(nn.Module):\n",
    "    def __init__(self, input_dim):\n",
    "        super(Net, self).__init__()\n",
    "        self.fc1 = nn.Linear(input_dim, 64)\n",
    "        self.relu = nn.ReLU()\n",
    "        self.dropout = nn.Dropout(0.2)\n",
    "        self.fc2 = nn.Linear(64, 6)\n",
    "        \n",
    "    def forward(self, x):\n",
    "        x = self.fc1(x)\n",
    "        x = self.relu(x)\n",
    "        x = self.dropout(x)\n",
    "        x = self.fc2(x)\n",
    "        return x"
   ]
  },
  {
   "cell_type": "code",
   "execution_count": 238,
   "metadata": {},
   "outputs": [
    {
     "name": "stdout",
     "output_type": "stream",
     "text": [
      "360 Net(\n",
      "  (fc1): Linear(in_features=360, out_features=64, bias=True)\n",
      "  (relu): ReLU()\n",
      "  (dropout): Dropout(p=0.2, inplace=False)\n",
      "  (fc2): Linear(in_features=64, out_features=6, bias=True)\n",
      ")\n"
     ]
    }
   ],
   "source": [
    "input_dim = train_dataset.features.shape[1]\n",
    "model = Net(input_dim)\n",
    "criterion = nn.CrossEntropyLoss()\n",
    "optimizer = optim.Adam(model.parameters(), lr=0.001)\n",
    "\n",
    "print(input_dim, model)"
   ]
  },
  {
   "cell_type": "code",
   "execution_count": 239,
   "metadata": {},
   "outputs": [],
   "source": [
    "def trainModel(model, train_loader, criterion, optimizer):\n",
    "  model.train()\n",
    "  running_loss = 0.0\n",
    "  correct = 0\n",
    "  total = 0\n",
    "\n",
    "  for batch_idx, (x, y) in enumerate(train_loader):\n",
    "    optimizer.zero_grad()\n",
    "    logits = model(x)\n",
    "    loss = criterion(logits, y)\n",
    "    loss.backward()\n",
    "    optimizer.step()\n",
    "\n",
    "    running_loss += loss.item()\n",
    "    _, predicted = logits.max(1)\n",
    "    total += y.size(0)\n",
    "    correct += predicted.eq(y).sum().item()\n",
    "\n",
    "  epoch_loss = running_loss / len(train_loader)\n",
    "  epoch_acc = 100. * correct / total\n",
    "  return epoch_loss, epoch_acc\n",
    "\n",
    "def evalModel(model, val_loader, criterion):\n",
    "  model.eval()\n",
    "  running_loss = 0.0\n",
    "  correct = 0\n",
    "  total = 0\n",
    "\n",
    "  with torch.no_grad():\n",
    "    for batch_idx, (x, y) in enumerate(val_loader):\n",
    "      logits = model(x)\n",
    "      loss = criterion(logits, y)\n",
    "\n",
    "      running_loss += loss.item()\n",
    "      _, predicted = logits.max(1)\n",
    "      total += y.size(0)\n",
    "      correct += predicted.eq(y).sum().item()\n",
    "\n",
    "  epoch_loss = running_loss / len(val_loader)\n",
    "  epoch_acc = 100. * correct / total\n",
    "  return epoch_loss, epoch_acc"
   ]
  },
  {
   "cell_type": "code",
   "execution_count": 240,
   "metadata": {},
   "outputs": [
    {
     "name": "stdout",
     "output_type": "stream",
     "text": [
      "Epoch 1/100, Train Loss: 1.8665, Train Acc: 21.67, Val Loss: 1.8678, Val Acc: 16.67\n",
      "Epoch 2/100, Train Loss: 1.6959, Train Acc: 36.67, Val Loss: 1.8708, Val Acc: 20.83\n",
      "Epoch 3/100, Train Loss: 1.5777, Train Acc: 56.67, Val Loss: 1.8712, Val Acc: 29.17\n",
      "Epoch 4/100, Train Loss: 1.4597, Train Acc: 63.33, Val Loss: 1.8734, Val Acc: 29.17\n",
      "Epoch 5/100, Train Loss: 1.3669, Train Acc: 71.67, Val Loss: 1.8765, Val Acc: 29.17\n",
      "Epoch 6/100, Train Loss: 1.3281, Train Acc: 80.00, Val Loss: 1.8784, Val Acc: 29.17\n",
      "Epoch 7/100, Train Loss: 1.2243, Train Acc: 71.67, Val Loss: 1.8819, Val Acc: 33.33\n",
      "Epoch 8/100, Train Loss: 1.1578, Train Acc: 80.00, Val Loss: 1.8857, Val Acc: 29.17\n",
      "Epoch 9/100, Train Loss: 1.1041, Train Acc: 86.67, Val Loss: 1.8908, Val Acc: 25.00\n",
      "Epoch 10/100, Train Loss: 1.0479, Train Acc: 83.33, Val Loss: 1.8968, Val Acc: 16.67\n",
      "Epoch 11/100, Train Loss: 1.0118, Train Acc: 85.00, Val Loss: 1.9045, Val Acc: 12.50\n",
      "Epoch 12/100, Train Loss: 0.9629, Train Acc: 83.33, Val Loss: 1.9126, Val Acc: 12.50\n",
      "Epoch 13/100, Train Loss: 0.9070, Train Acc: 88.33, Val Loss: 1.9227, Val Acc: 12.50\n",
      "Epoch 14/100, Train Loss: 0.8739, Train Acc: 80.00, Val Loss: 1.9337, Val Acc: 12.50\n",
      "Epoch 15/100, Train Loss: 0.8224, Train Acc: 85.00, Val Loss: 1.9460, Val Acc: 12.50\n",
      "Epoch 16/100, Train Loss: 0.7771, Train Acc: 86.67, Val Loss: 1.9596, Val Acc: 12.50\n",
      "Epoch 17/100, Train Loss: 0.7527, Train Acc: 83.33, Val Loss: 1.9737, Val Acc: 12.50\n",
      "Epoch 18/100, Train Loss: 0.7188, Train Acc: 85.00, Val Loss: 1.9878, Val Acc: 12.50\n",
      "Epoch 19/100, Train Loss: 0.7109, Train Acc: 83.33, Val Loss: 2.0029, Val Acc: 12.50\n",
      "Epoch 20/100, Train Loss: 0.6645, Train Acc: 81.67, Val Loss: 2.0187, Val Acc: 16.67\n",
      "Epoch 21/100, Train Loss: 0.6566, Train Acc: 81.67, Val Loss: 2.0344, Val Acc: 16.67\n",
      "Epoch 22/100, Train Loss: 0.6176, Train Acc: 83.33, Val Loss: 2.0495, Val Acc: 16.67\n",
      "Epoch 23/100, Train Loss: 0.5826, Train Acc: 85.00, Val Loss: 2.0647, Val Acc: 16.67\n",
      "Epoch 24/100, Train Loss: 0.5792, Train Acc: 83.33, Val Loss: 2.0803, Val Acc: 16.67\n",
      "Epoch 25/100, Train Loss: 0.5447, Train Acc: 83.33, Val Loss: 2.0964, Val Acc: 16.67\n",
      "Epoch 26/100, Train Loss: 0.5143, Train Acc: 85.00, Val Loss: 2.1131, Val Acc: 16.67\n",
      "Epoch 27/100, Train Loss: 0.5002, Train Acc: 83.33, Val Loss: 2.1300, Val Acc: 16.67\n",
      "Epoch 28/100, Train Loss: 0.4896, Train Acc: 86.67, Val Loss: 2.1474, Val Acc: 16.67\n",
      "Epoch 29/100, Train Loss: 0.4521, Train Acc: 81.67, Val Loss: 2.1642, Val Acc: 16.67\n",
      "Epoch 30/100, Train Loss: 0.4617, Train Acc: 85.00, Val Loss: 2.1815, Val Acc: 16.67\n",
      "Epoch 31/100, Train Loss: 0.4288, Train Acc: 83.33, Val Loss: 2.1986, Val Acc: 16.67\n",
      "Epoch 32/100, Train Loss: 0.4347, Train Acc: 78.33, Val Loss: 2.2163, Val Acc: 16.67\n",
      "Epoch 33/100, Train Loss: 0.4147, Train Acc: 86.67, Val Loss: 2.2332, Val Acc: 16.67\n",
      "Epoch 34/100, Train Loss: 0.4069, Train Acc: 81.67, Val Loss: 2.2500, Val Acc: 16.67\n",
      "Epoch 35/100, Train Loss: 0.3878, Train Acc: 85.00, Val Loss: 2.2668, Val Acc: 16.67\n",
      "Epoch 36/100, Train Loss: 0.3793, Train Acc: 86.67, Val Loss: 2.2827, Val Acc: 16.67\n",
      "Epoch 37/100, Train Loss: 0.3836, Train Acc: 78.33, Val Loss: 2.2991, Val Acc: 16.67\n",
      "Epoch 38/100, Train Loss: 0.3700, Train Acc: 85.00, Val Loss: 2.3149, Val Acc: 16.67\n",
      "Epoch 39/100, Train Loss: 0.3636, Train Acc: 81.67, Val Loss: 2.3310, Val Acc: 16.67\n",
      "Epoch 40/100, Train Loss: 0.3442, Train Acc: 80.00, Val Loss: 2.3476, Val Acc: 16.67\n",
      "Epoch 41/100, Train Loss: 0.3268, Train Acc: 80.00, Val Loss: 2.3640, Val Acc: 16.67\n",
      "Epoch 42/100, Train Loss: 0.3179, Train Acc: 85.00, Val Loss: 2.3798, Val Acc: 16.67\n",
      "Epoch 43/100, Train Loss: 0.3160, Train Acc: 83.33, Val Loss: 2.3954, Val Acc: 16.67\n",
      "Epoch 44/100, Train Loss: 0.3147, Train Acc: 81.67, Val Loss: 2.4109, Val Acc: 16.67\n",
      "Epoch 45/100, Train Loss: 0.3162, Train Acc: 86.67, Val Loss: 2.4259, Val Acc: 16.67\n",
      "Epoch 46/100, Train Loss: 0.3108, Train Acc: 85.00, Val Loss: 2.4410, Val Acc: 16.67\n",
      "Epoch 47/100, Train Loss: 0.3196, Train Acc: 80.00, Val Loss: 2.4557, Val Acc: 16.67\n",
      "Epoch 48/100, Train Loss: 0.2932, Train Acc: 85.00, Val Loss: 2.4702, Val Acc: 16.67\n",
      "Epoch 49/100, Train Loss: 0.2870, Train Acc: 85.00, Val Loss: 2.4844, Val Acc: 16.67\n",
      "Epoch 50/100, Train Loss: 0.2886, Train Acc: 83.33, Val Loss: 2.4982, Val Acc: 16.67\n",
      "Epoch 51/100, Train Loss: 0.2904, Train Acc: 91.67, Val Loss: 2.5115, Val Acc: 16.67\n",
      "Epoch 52/100, Train Loss: 0.2803, Train Acc: 85.00, Val Loss: 2.5244, Val Acc: 16.67\n",
      "Epoch 53/100, Train Loss: 0.2819, Train Acc: 88.33, Val Loss: 2.5382, Val Acc: 16.67\n",
      "Epoch 54/100, Train Loss: 0.2875, Train Acc: 80.00, Val Loss: 2.5517, Val Acc: 16.67\n",
      "Epoch 55/100, Train Loss: 0.2730, Train Acc: 85.00, Val Loss: 2.5658, Val Acc: 16.67\n",
      "Epoch 56/100, Train Loss: 0.2709, Train Acc: 83.33, Val Loss: 2.5792, Val Acc: 16.67\n",
      "Epoch 57/100, Train Loss: 0.2781, Train Acc: 83.33, Val Loss: 2.5922, Val Acc: 16.67\n",
      "Epoch 58/100, Train Loss: 0.2729, Train Acc: 83.33, Val Loss: 2.6046, Val Acc: 16.67\n",
      "Epoch 59/100, Train Loss: 0.2679, Train Acc: 88.33, Val Loss: 2.6163, Val Acc: 16.67\n",
      "Epoch 60/100, Train Loss: 0.2672, Train Acc: 83.33, Val Loss: 2.6278, Val Acc: 16.67\n",
      "Epoch 61/100, Train Loss: 0.2675, Train Acc: 86.67, Val Loss: 2.6386, Val Acc: 16.67\n",
      "Epoch 62/100, Train Loss: 0.2670, Train Acc: 85.00, Val Loss: 2.6493, Val Acc: 16.67\n",
      "Epoch 63/100, Train Loss: 0.2752, Train Acc: 80.00, Val Loss: 2.6592, Val Acc: 16.67\n",
      "Epoch 64/100, Train Loss: 0.2708, Train Acc: 80.00, Val Loss: 2.6692, Val Acc: 16.67\n",
      "Epoch 65/100, Train Loss: 0.2537, Train Acc: 85.00, Val Loss: 2.6789, Val Acc: 16.67\n",
      "Epoch 66/100, Train Loss: 0.2718, Train Acc: 83.33, Val Loss: 2.6869, Val Acc: 16.67\n",
      "Epoch 67/100, Train Loss: 0.2550, Train Acc: 85.00, Val Loss: 2.6948, Val Acc: 16.67\n",
      "Epoch 68/100, Train Loss: 0.2596, Train Acc: 86.67, Val Loss: 2.7034, Val Acc: 16.67\n",
      "Epoch 69/100, Train Loss: 0.2740, Train Acc: 81.67, Val Loss: 2.7116, Val Acc: 16.67\n",
      "Epoch 70/100, Train Loss: 0.2525, Train Acc: 83.33, Val Loss: 2.7191, Val Acc: 16.67\n",
      "Epoch 71/100, Train Loss: 0.2623, Train Acc: 76.67, Val Loss: 2.7264, Val Acc: 16.67\n",
      "Epoch 72/100, Train Loss: 0.2537, Train Acc: 83.33, Val Loss: 2.7331, Val Acc: 16.67\n",
      "Epoch 73/100, Train Loss: 0.2765, Train Acc: 75.00, Val Loss: 2.7394, Val Acc: 16.67\n",
      "Epoch 74/100, Train Loss: 0.2613, Train Acc: 80.00, Val Loss: 2.7448, Val Acc: 16.67\n",
      "Epoch 75/100, Train Loss: 0.2529, Train Acc: 81.67, Val Loss: 2.7498, Val Acc: 16.67\n",
      "Epoch 76/100, Train Loss: 0.2450, Train Acc: 88.33, Val Loss: 2.7555, Val Acc: 16.67\n",
      "Epoch 77/100, Train Loss: 0.2624, Train Acc: 80.00, Val Loss: 2.7615, Val Acc: 16.67\n",
      "Epoch 78/100, Train Loss: 0.2462, Train Acc: 88.33, Val Loss: 2.7677, Val Acc: 16.67\n",
      "Epoch 79/100, Train Loss: 0.2481, Train Acc: 86.67, Val Loss: 2.7740, Val Acc: 16.67\n",
      "Epoch 80/100, Train Loss: 0.2578, Train Acc: 86.67, Val Loss: 2.7805, Val Acc: 16.67\n",
      "Epoch 81/100, Train Loss: 0.2431, Train Acc: 85.00, Val Loss: 2.7871, Val Acc: 16.67\n",
      "Epoch 82/100, Train Loss: 0.2538, Train Acc: 81.67, Val Loss: 2.7938, Val Acc: 16.67\n",
      "Epoch 83/100, Train Loss: 0.2465, Train Acc: 85.00, Val Loss: 2.8006, Val Acc: 16.67\n",
      "Epoch 84/100, Train Loss: 0.2532, Train Acc: 85.00, Val Loss: 2.8068, Val Acc: 16.67\n",
      "Epoch 85/100, Train Loss: 0.2408, Train Acc: 88.33, Val Loss: 2.8132, Val Acc: 16.67\n",
      "Epoch 86/100, Train Loss: 0.2373, Train Acc: 88.33, Val Loss: 2.8190, Val Acc: 16.67\n",
      "Epoch 87/100, Train Loss: 0.2528, Train Acc: 88.33, Val Loss: 2.8246, Val Acc: 16.67\n",
      "Epoch 88/100, Train Loss: 0.2571, Train Acc: 80.00, Val Loss: 2.8301, Val Acc: 16.67\n",
      "Epoch 89/100, Train Loss: 0.2355, Train Acc: 88.33, Val Loss: 2.8358, Val Acc: 16.67\n",
      "Epoch 90/100, Train Loss: 0.2521, Train Acc: 83.33, Val Loss: 2.8419, Val Acc: 16.67\n",
      "Epoch 91/100, Train Loss: 0.2644, Train Acc: 78.33, Val Loss: 2.8477, Val Acc: 16.67\n",
      "Epoch 92/100, Train Loss: 0.2528, Train Acc: 80.00, Val Loss: 2.8535, Val Acc: 16.67\n",
      "Epoch 93/100, Train Loss: 0.2480, Train Acc: 81.67, Val Loss: 2.8590, Val Acc: 16.67\n",
      "Epoch 94/100, Train Loss: 0.2319, Train Acc: 88.33, Val Loss: 2.8649, Val Acc: 16.67\n",
      "Epoch 95/100, Train Loss: 0.2514, Train Acc: 81.67, Val Loss: 2.8706, Val Acc: 16.67\n",
      "Epoch 96/100, Train Loss: 0.2391, Train Acc: 85.00, Val Loss: 2.8760, Val Acc: 16.67\n",
      "Epoch 97/100, Train Loss: 0.2417, Train Acc: 81.67, Val Loss: 2.8811, Val Acc: 16.67\n",
      "Epoch 98/100, Train Loss: 0.2448, Train Acc: 93.33, Val Loss: 2.8862, Val Acc: 16.67\n",
      "Epoch 99/100, Train Loss: 0.2377, Train Acc: 90.00, Val Loss: 2.8919, Val Acc: 16.67\n",
      "Epoch 100/100, Train Loss: 0.2324, Train Acc: 90.00, Val Loss: 2.8976, Val Acc: 16.67\n"
     ]
    }
   ],
   "source": [
    "num_epochs = 100\n",
    "\n",
    "train_losses = []\n",
    "train_accuracies = []\n",
    "val_losses = []\n",
    "val_accuracies = []\n",
    "\n",
    "best_val_acc = 0.0\n",
    "\n",
    "for epoch in range(num_epochs):\n",
    "    train_loss, train_acc = trainModel(model, train_loader, criterion, optimizer)\n",
    "    val_loss, val_acc = evalModel(model, val_loader, criterion)\n",
    "    \n",
    "    train_losses.append(train_loss)\n",
    "    train_accuracies.append(train_acc)\n",
    "    \n",
    "    val_losses.append(val_loss)\n",
    "    val_accuracies.append(val_acc)\n",
    "    \n",
    "    print(f'Epoch {epoch+1}/{num_epochs}, Train Loss: {train_loss:.4f}, Train Acc: {train_acc:.2f}, Val Loss: {val_loss:.4f}, Val Acc: {val_acc:.2f}')"
   ]
  },
  {
   "cell_type": "code",
   "execution_count": 241,
   "metadata": {},
   "outputs": [
    {
     "name": "stdout",
     "output_type": "stream",
     "text": [
      "Test Loss: 1.7752, Test Acc: 33.33\n"
     ]
    }
   ],
   "source": [
    "# avaliando modelo sem augmentation\n",
    "test_loss, test_acc = evalModel(model, test_loader, criterion)\n",
    "print(f'Test Loss: {test_loss:.4f}, Test Acc: {test_acc:.2f}')"
   ]
  },
  {
   "cell_type": "code",
   "execution_count": 242,
   "metadata": {},
   "outputs": [
    {
     "data": {
      "image/png": "[encoded data removed]",
      "text/plain": [
       "<Figure size 1400x500 with 2 Axes>"
      ]
     },
     "metadata": {},
     "output_type": "display_data"
    }
   ],
   "source": [
    "# Plotando a perda e a precisão do modelo sem augmentation\n",
    "epochs = range(1, num_epochs + 1) # é 36 epocas porque com early stopping so rodou 36 epocas\n",
    "\n",
    "plt.figure(figsize=(14, 5))\n",
    "\n",
    "plt.subplot(1, 2, 1)\n",
    "plt.plot(epochs, train_losses, 'r', label='Train Loss')\n",
    "plt.plot(epochs, val_losses, 'b', label='Validation Loss')\n",
    "plt.title('Train and Validation Loss')\n",
    "plt.xlabel('Epochs')\n",
    "plt.ylabel('Loss')\n",
    "plt.legend()\n",
    "\n",
    "plt.subplot(1, 2, 2)\n",
    "plt.plot(epochs, train_accuracies, 'r', label='Train Accuracy')\n",
    "plt.plot(epochs, val_accuracies, 'b', label='Validation Accuracy')\n",
    "plt.title('Train and Validation Accuracy')\n",
    "plt.xlabel('Epochs')\n",
    "plt.ylabel('Accuracy')\n",
    "plt.legend()\n",
    "\n",
    "plt.show()"
   ]
  },
  {
   "cell_type": "code",
   "execution_count": 243,
   "metadata": {},
   "outputs": [
    {
     "data": {
      "image/png": "[encoded data removed]",
      "text/plain": [
       "<Figure size 1000x800 with 2 Axes>"
      ]
     },
     "metadata": {},
     "output_type": "display_data"
    },
    {
     "name": "stdout",
     "output_type": "stream",
     "text": [
      "              precision    recall  f1-score   support\n",
      "\n",
      "           0       0.00      0.00      0.00         4\n",
      "           1       0.00      0.00      0.00         4\n",
      "           2       0.09      0.25      0.13         4\n",
      "           3       0.75      0.75      0.75         4\n",
      "           4       0.75      0.75      0.75         4\n",
      "           5       0.50      0.25      0.33         4\n",
      "\n",
      "    accuracy                           0.33        24\n",
      "   macro avg       0.35      0.33      0.33        24\n",
      "weighted avg       0.35      0.33      0.33        24\n",
      "\n"
     ]
    }
   ],
   "source": [
    "# Obter previsões do conjunto de teste\n",
    "model.eval()\n",
    "all_preds = []\n",
    "all_labels = []\n",
    "with torch.no_grad():\n",
    "    for batch_idx, (x, y) in enumerate(test_loader):\n",
    "        outputs = model(x)\n",
    "        _, preds = outputs.max(1)\n",
    "        all_preds.extend(preds.cpu().numpy())\n",
    "        all_labels.extend(y.cpu().numpy())\n",
    "\n",
    "# Calcular a matriz de confusão\n",
    "cm = confusion_matrix(all_labels, all_preds)\n",
    "\n",
    "# Visualizar a matriz de confusão\n",
    "plt.figure(figsize=(10, 8))\n",
    "sns.heatmap(cm, annot=True, fmt='d', cmap='Blues')\n",
    "plt.title('Confusion Matrix')\n",
    "plt.xlabel('Predicted')\n",
    "plt.ylabel('True')\n",
    "plt.show()\n",
    "\n",
    "# Relatório de classificação\n",
    "print(classification_report(all_labels, all_preds))"
   ]
  },
  {
   "cell_type": "markdown",
   "metadata": {},
   "source": [
    "### Testando Random Forest"
   ]
  },
  {
   "cell_type": "code",
   "execution_count": 244,
   "metadata": {},
   "outputs": [],
   "source": [
    "import pandas as pd\n",
    "import numpy as np\n",
    "from sklearn.ensemble import RandomForestClassifier\n",
    "from sklearn.model_selection import train_test_split\n",
    "from sklearn.metrics import accuracy_score, classification_report, confusion_matrix"
   ]
  },
  {
   "cell_type": "code",
   "execution_count": 245,
   "metadata": {},
   "outputs": [
    {
     "name": "stdout",
     "output_type": "stream",
     "text": [
      "\n",
      "Avaliação do modelo:\n",
      "Acurácia: 66.67%\n",
      "\n",
      "Relatório de Classificação:\n",
      "              precision    recall  f1-score   support\n",
      "\n",
      "           0       0.50      1.00      0.67         4\n",
      "           1       0.00      0.00      0.00         4\n",
      "           2       0.60      0.75      0.67         4\n",
      "           3       0.75      0.75      0.75         4\n",
      "           4       1.00      0.75      0.86         4\n",
      "           5       0.75      0.75      0.75         4\n",
      "\n",
      "    accuracy                           0.67        24\n",
      "   macro avg       0.60      0.67      0.62        24\n",
      "weighted avg       0.60      0.67      0.62        24\n",
      "\n",
      "\n",
      "Matriz de Confusão:\n",
      "[[4 0 0 0 0 0]\n",
      " [4 0 0 0 0 0]\n",
      " [0 0 3 1 0 0]\n",
      " [0 0 0 3 0 1]\n",
      " [0 0 1 0 3 0]\n",
      " [0 0 1 0 0 3]]\n"
     ]
    },
    {
     "name": "stderr",
     "output_type": "stream",
     "text": [
      "/Users/filipealvessampaio/miniconda3/envs/vae/lib/python3.9/site-packages/sklearn/metrics/_classification.py:1517: UndefinedMetricWarning: Precision is ill-defined and being set to 0.0 in labels with no predicted samples. Use `zero_division` parameter to control this behavior.\n",
      "  _warn_prf(average, modifier, f\"{metric.capitalize()} is\", len(result))\n",
      "/Users/filipealvessampaio/miniconda3/envs/vae/lib/python3.9/site-packages/sklearn/metrics/_classification.py:1517: UndefinedMetricWarning: Precision is ill-defined and being set to 0.0 in labels with no predicted samples. Use `zero_division` parameter to control this behavior.\n",
      "  _warn_prf(average, modifier, f\"{metric.capitalize()} is\", len(result))\n",
      "/Users/filipealvessampaio/miniconda3/envs/vae/lib/python3.9/site-packages/sklearn/metrics/_classification.py:1517: UndefinedMetricWarning: Precision is ill-defined and being set to 0.0 in labels with no predicted samples. Use `zero_division` parameter to control this behavior.\n",
      "  _warn_prf(average, modifier, f\"{metric.capitalize()} is\", len(result))\n"
     ]
    }
   ],
   "source": [
    "rf_model = RandomForestClassifier(n_estimators=100, random_state=42)\n",
    "\n",
    "rf_model.fit(X_train, y_train)\n",
    "\n",
    "y_pred = rf_model.predict(X_test)\n",
    "\n",
    "accuracy = accuracy_score(y_test, y_pred)\n",
    "\n",
    "print(\"\\nAvaliação do modelo:\")\n",
    "print(f\"Acurácia: {accuracy * 100:.2f}%\")\n",
    "print(\"\\nRelatório de Classificação:\")\n",
    "print(classification_report(y_test, y_pred))\n",
    "print(\"\\nMatriz de Confusão:\")\n",
    "print(confusion_matrix(y_test, y_pred))"
   ]
  },
  {
   "cell_type": "code",
   "execution_count": 246,
   "metadata": {},
   "outputs": [
    {
     "name": "stdout",
     "output_type": "stream",
     "text": [
      "[0 0 0 0 1 1 1 1 2 2 2 2 3 3 3 3 4 4 4 4 5 5 5 5]\n",
      "[0 0 0 0 0 0 0 0 2 2 2 3 3 3 5 3 2 4 4 4 5 5 2 5]\n"
     ]
    }
   ],
   "source": [
    "from sklearn.preprocessing import label_binarize\n",
    "\n",
    "true_labels = np.array(label_binarize(y_test, classes=rf_model.classes_).argmax(axis=1))\n",
    "pred_labels = np.array(rf_model.predict_proba(X_test).argmax(axis=1))\n",
    "\n",
    "print(true_labels)\n",
    "print(pred_labels)"
   ]
  },
  {
   "cell_type": "code",
   "execution_count": 247,
   "metadata": {},
   "outputs": [],
   "source": [
    "csv = pd.DataFrame({\n",
    "    'real': true_labels,\n",
    "    'prediction': pred_labels,\n",
    "})\n",
    "\n",
    "csv.to_csv(f'{porcentagem}.dat', sep=\" \", index=False)"
   ]
  }
 ],
 "metadata": {
  "kernelspec": {
   "display_name": "vae",
   "language": "python",
   "name": "python3"
  },
  "language_info": {
   "codemirror_mode": {
    "name": "ipython",
    "version": 3
   },
   "file_extension": ".py",
   "mimetype": "text/x-python",
   "name": "python",
   "nbconvert_exporter": "python",
   "pygments_lexer": "ipython3",
   "version": "3.9.19"
  }
 },
 "nbformat": 4,
 "nbformat_minor": 2
}
