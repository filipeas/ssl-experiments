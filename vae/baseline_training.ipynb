{
 "cells": [
  {
   "cell_type": "code",
   "execution_count": 1,
   "metadata": {},
   "outputs": [],
   "source": [
    "import pandas as pd\n",
    "from sklearn.preprocessing import LabelEncoder, StandardScaler\n",
    "from torch.utils.data import Dataset, DataLoader\n",
    "import torch\n",
    "import torch.nn as nn\n",
    "import torch.optim as optim\n",
    "\n",
    "import matplotlib.pyplot as plt\n",
    "import seaborn as sns\n",
    "from sklearn.metrics import confusion_matrix, classification_report"
   ]
  },
  {
   "cell_type": "markdown",
   "metadata": {},
   "source": [
    "### Carregando Dataset do professor"
   ]
  },
  {
   "cell_type": "code",
   "execution_count": 2,
   "metadata": {},
   "outputs": [
    {
     "name": "stdout",
     "output_type": "stream",
     "text": [
      "shape train:  (60, 360)\n",
      "shape test:  (24, 360)\n",
      "shape valid:  (24, 360)\n",
      "(60,) (24,) (24,)\n"
     ]
    }
   ],
   "source": [
    "# testando amostras do professor\n",
    "df_train = pd.read_csv('dataset/har-example-mo436/train.csv')\n",
    "df_test = pd.read_csv('dataset/har-example-mo436/test.csv')\n",
    "df_val = pd.read_csv('dataset/har-example-mo436/validation.csv')\n",
    "\n",
    "X_train = df_train.drop(columns=[df_train.columns[0], 'gyro-end-time', 'level_0', 'accel-end-time', 'gyro-start-time', 'index', 'user', 'serial', 'accel-start-time', 'csv', 'timestamp diff', 'activity code', 'window', 'standard activity code'])\n",
    "X_test = df_test.drop(columns=[df_train.columns[0], 'gyro-end-time', 'level_0', 'accel-end-time', 'gyro-start-time', 'index', 'user', 'serial', 'accel-start-time', 'csv', 'timestamp diff', 'activity code', 'window', 'standard activity code'])\n",
    "X_val = df_val.drop(columns=[df_train.columns[0], 'gyro-end-time', 'level_0', 'accel-end-time', 'gyro-start-time', 'index', 'user', 'serial', 'accel-start-time', 'csv', 'timestamp diff', 'activity code', 'window', 'standard activity code'])\n",
    "\n",
    "y_train = df_train.pop('standard activity code')\n",
    "y_test = df_test.pop('standard activity code')\n",
    "y_val = df_val.pop('standard activity code')\n",
    "\n",
    "print(\"shape train: \", X_train.shape)\n",
    "print(\"shape test: \", X_test.shape)\n",
    "print(\"shape valid: \", X_val.shape)\n",
    "print(y_train.shape, y_test.shape, y_val.shape)"
   ]
  },
  {
   "cell_type": "markdown",
   "metadata": {},
   "source": [
    "### Dataset e Dataloader"
   ]
  },
  {
   "cell_type": "code",
   "execution_count": 3,
   "metadata": {},
   "outputs": [],
   "source": [
    "class CSVLabeledDataset(Dataset):\n",
    "    def __init__(self, X, y, transform=None):\n",
    "        self.transform = transform\n",
    "\n",
    "        self.features = X\n",
    "        self.labels = y\n",
    "\n",
    "        if self.transform:\n",
    "            self.features = self.transform(self.features)\n",
    "    \n",
    "    def __len__(self):\n",
    "        return len(self.features)\n",
    "    \n",
    "    def __getitem__(self, idx):\n",
    "        sample = torch.tensor(self.features[idx], dtype=torch.float32)#.unsqueeze(0)\n",
    "        label = torch.tensor(self.labels[idx], dtype=torch.long)\n",
    "        return sample, label"
   ]
  },
  {
   "cell_type": "code",
   "execution_count": 4,
   "metadata": {},
   "outputs": [],
   "source": [
    "class Jitter:\n",
    "    def __init__(self, sigma=0.01):\n",
    "        self.sigma = sigma\n",
    "\n",
    "    def __call__(self, x):\n",
    "        noise = np.random.normal(loc=0, scale=self.sigma, size=x.shape)\n",
    "        return x + noise\n",
    "\n",
    "class Scaling:\n",
    "    def __init__(self, sigma=0.1):\n",
    "        self.sigma = sigma\n",
    "\n",
    "    def __call__(self, x):\n",
    "        factor = np.random.normal(loc=1.0, scale=self.sigma)\n",
    "        return x * factor\n",
    "\n",
    "class TimeShift:\n",
    "    def __init__(self, max_shift=50):\n",
    "        self.max_shift = max_shift\n",
    "\n",
    "    def __call__(self, x):\n",
    "        shift = np.random.randint(-self.max_shift, self.max_shift)\n",
    "        return np.roll(x, shift)\n",
    "\n",
    "# classe de transformacoes nos dados\n",
    "class Compose:\n",
    "    def __init__(self, transforms):\n",
    "        self.transforms = transforms\n",
    "\n",
    "    def __call__(self, x):\n",
    "        for t in self.transforms:\n",
    "            if callable(t):\n",
    "                x = t(x)\n",
    "            else:\n",
    "                x = t.fit_transform(x)\n",
    "        return x"
   ]
  },
  {
   "cell_type": "code",
   "execution_count": 5,
   "metadata": {},
   "outputs": [],
   "source": [
    "def createDataLoader(X_train, X_test, X_val, y_train, y_test, y_val, batch_size=32):\n",
    "    # scaler = StandardScaler()\n",
    "    train_transform = Compose([\n",
    "        StandardScaler(),\n",
    "        # Jitter(),\n",
    "        # Scaling(),\n",
    "        # TimeShift()\n",
    "    ])\n",
    "    valid_test_transform = Compose([\n",
    "        StandardScaler()\n",
    "    ])\n",
    "\n",
    "    train_dataset = CSVLabeledDataset(X_train, y_train, transform=train_transform)\n",
    "    test_dataset = CSVLabeledDataset(X_test, y_test, transform=valid_test_transform)\n",
    "    val_dataset = CSVLabeledDataset(X_val, y_val, transform=valid_test_transform)\n",
    "\n",
    "    train_loader = DataLoader(train_dataset, batch_size=batch_size, shuffle=True)\n",
    "    test_loader = DataLoader(test_dataset, batch_size=batch_size, shuffle=False)\n",
    "    val_loader = DataLoader(val_dataset, batch_size=batch_size, shuffle=False)\n",
    "\n",
    "    return train_dataset, test_dataset, val_dataset, train_loader, test_loader, val_loader"
   ]
  },
  {
   "cell_type": "code",
   "execution_count": 6,
   "metadata": {},
   "outputs": [],
   "source": [
    "train_dataset, test_dataset, val_dataset, train_loader, test_loader, val_loader = createDataLoader(X_train.values, X_test.values, X_val.values, y_train.values, y_test.values, y_val.values)"
   ]
  },
  {
   "cell_type": "code",
   "execution_count": 7,
   "metadata": {},
   "outputs": [
    {
     "name": "stdout",
     "output_type": "stream",
     "text": [
      "torch.Size([32, 360]) torch.Size([32])\n"
     ]
    }
   ],
   "source": [
    "for batch_idx, (x, y) in enumerate(train_loader):\n",
    "    print(x.shape, y.shape)\n",
    "    break"
   ]
  },
  {
   "cell_type": "code",
   "execution_count": 8,
   "metadata": {},
   "outputs": [],
   "source": [
    "class Net(nn.Module):\n",
    "    def __init__(self, input_dim):\n",
    "        super(Net, self).__init__()\n",
    "        self.fc1 = nn.Linear(input_dim, 64)\n",
    "        self.relu = nn.ReLU()\n",
    "        self.dropout = nn.Dropout(0.2)\n",
    "        self.fc2 = nn.Linear(64, 6)\n",
    "        \n",
    "    def forward(self, x):\n",
    "        x = self.fc1(x)\n",
    "        x = self.relu(x)\n",
    "        x = self.dropout(x)\n",
    "        x = self.fc2(x)\n",
    "        return x"
   ]
  },
  {
   "cell_type": "code",
   "execution_count": 9,
   "metadata": {},
   "outputs": [
    {
     "name": "stdout",
     "output_type": "stream",
     "text": [
      "360 Net(\n",
      "  (fc1): Linear(in_features=360, out_features=64, bias=True)\n",
      "  (relu): ReLU()\n",
      "  (dropout): Dropout(p=0.2, inplace=False)\n",
      "  (fc2): Linear(in_features=64, out_features=6, bias=True)\n",
      ")\n"
     ]
    }
   ],
   "source": [
    "input_dim = train_dataset.features.shape[1]\n",
    "model = Net(input_dim)\n",
    "criterion = nn.CrossEntropyLoss()\n",
    "optimizer = optim.Adam(model.parameters(), lr=0.001)\n",
    "\n",
    "print(input_dim, model)"
   ]
  },
  {
   "cell_type": "code",
   "execution_count": 10,
   "metadata": {},
   "outputs": [],
   "source": [
    "def trainModel(model, train_loader, criterion, optimizer):\n",
    "  model.train()\n",
    "  running_loss = 0.0\n",
    "  correct = 0\n",
    "  total = 0\n",
    "\n",
    "  for batch_idx, (x, y) in enumerate(train_loader):\n",
    "    optimizer.zero_grad()\n",
    "    logits = model(x)\n",
    "    loss = criterion(logits, y)\n",
    "    loss.backward()\n",
    "    optimizer.step()\n",
    "\n",
    "    running_loss += loss.item()\n",
    "    _, predicted = logits.max(1)\n",
    "    total += y.size(0)\n",
    "    correct += predicted.eq(y).sum().item()\n",
    "\n",
    "  epoch_loss = running_loss / len(train_loader)\n",
    "  epoch_acc = 100. * correct / total\n",
    "  return epoch_loss, epoch_acc\n",
    "\n",
    "def evalModel(model, val_loader, criterion):\n",
    "  model.eval()\n",
    "  running_loss = 0.0\n",
    "  correct = 0\n",
    "  total = 0\n",
    "\n",
    "  with torch.no_grad():\n",
    "    for batch_idx, (x, y) in enumerate(val_loader):\n",
    "      logits = model(x)\n",
    "      loss = criterion(logits, y)\n",
    "\n",
    "      running_loss += loss.item()\n",
    "      _, predicted = logits.max(1)\n",
    "      total += y.size(0)\n",
    "      correct += predicted.eq(y).sum().item()\n",
    "\n",
    "  epoch_loss = running_loss / len(val_loader)\n",
    "  epoch_acc = 100. * correct / total\n",
    "  return epoch_loss, epoch_acc"
   ]
  },
  {
   "cell_type": "code",
   "execution_count": 11,
   "metadata": {},
   "outputs": [
    {
     "name": "stdout",
     "output_type": "stream",
     "text": [
      "Epoch 1/100, Train Loss: 1.8306, Train Acc: 10.00, Val Loss: 1.7946, Val Acc: 16.67\n",
      "Epoch 2/100, Train Loss: 1.6593, Train Acc: 33.33, Val Loss: 1.7914, Val Acc: 16.67\n",
      "Epoch 3/100, Train Loss: 1.5363, Train Acc: 45.00, Val Loss: 1.7902, Val Acc: 25.00\n",
      "Epoch 4/100, Train Loss: 1.4329, Train Acc: 61.67, Val Loss: 1.7913, Val Acc: 20.83\n",
      "Epoch 5/100, Train Loss: 1.3418, Train Acc: 75.00, Val Loss: 1.7917, Val Acc: 20.83\n",
      "Epoch 6/100, Train Loss: 1.2642, Train Acc: 76.67, Val Loss: 1.7936, Val Acc: 20.83\n",
      "Epoch 7/100, Train Loss: 1.2106, Train Acc: 76.67, Val Loss: 1.7962, Val Acc: 16.67\n",
      "Epoch 8/100, Train Loss: 1.1599, Train Acc: 81.67, Val Loss: 1.7998, Val Acc: 16.67\n",
      "Epoch 9/100, Train Loss: 1.0937, Train Acc: 75.00, Val Loss: 1.8048, Val Acc: 20.83\n",
      "Epoch 10/100, Train Loss: 1.0347, Train Acc: 81.67, Val Loss: 1.8109, Val Acc: 20.83\n",
      "Epoch 11/100, Train Loss: 0.9880, Train Acc: 73.33, Val Loss: 1.8189, Val Acc: 20.83\n",
      "Epoch 12/100, Train Loss: 0.9288, Train Acc: 78.33, Val Loss: 1.8283, Val Acc: 20.83\n",
      "Epoch 13/100, Train Loss: 0.9148, Train Acc: 80.00, Val Loss: 1.8402, Val Acc: 20.83\n",
      "Epoch 14/100, Train Loss: 0.8471, Train Acc: 81.67, Val Loss: 1.8529, Val Acc: 20.83\n",
      "Epoch 15/100, Train Loss: 0.8437, Train Acc: 78.33, Val Loss: 1.8668, Val Acc: 20.83\n",
      "Epoch 16/100, Train Loss: 0.8098, Train Acc: 80.00, Val Loss: 1.8810, Val Acc: 20.83\n",
      "Epoch 17/100, Train Loss: 0.7763, Train Acc: 81.67, Val Loss: 1.8956, Val Acc: 20.83\n",
      "Epoch 18/100, Train Loss: 0.7520, Train Acc: 81.67, Val Loss: 1.9105, Val Acc: 20.83\n",
      "Epoch 19/100, Train Loss: 0.7115, Train Acc: 81.67, Val Loss: 1.9269, Val Acc: 20.83\n",
      "Epoch 20/100, Train Loss: 0.7151, Train Acc: 80.00, Val Loss: 1.9443, Val Acc: 20.83\n",
      "Epoch 21/100, Train Loss: 0.6826, Train Acc: 81.67, Val Loss: 1.9623, Val Acc: 20.83\n",
      "Epoch 22/100, Train Loss: 0.6659, Train Acc: 83.33, Val Loss: 1.9810, Val Acc: 16.67\n",
      "Epoch 23/100, Train Loss: 0.6178, Train Acc: 83.33, Val Loss: 2.0008, Val Acc: 16.67\n",
      "Epoch 24/100, Train Loss: 0.5920, Train Acc: 83.33, Val Loss: 2.0202, Val Acc: 16.67\n",
      "Epoch 25/100, Train Loss: 0.5908, Train Acc: 85.00, Val Loss: 2.0403, Val Acc: 16.67\n",
      "Epoch 26/100, Train Loss: 0.5625, Train Acc: 83.33, Val Loss: 2.0598, Val Acc: 16.67\n",
      "Epoch 27/100, Train Loss: 0.5544, Train Acc: 85.00, Val Loss: 2.0785, Val Acc: 16.67\n",
      "Epoch 28/100, Train Loss: 0.5389, Train Acc: 83.33, Val Loss: 2.0968, Val Acc: 16.67\n",
      "Epoch 29/100, Train Loss: 0.5124, Train Acc: 83.33, Val Loss: 2.1152, Val Acc: 16.67\n",
      "Epoch 30/100, Train Loss: 0.4934, Train Acc: 83.33, Val Loss: 2.1328, Val Acc: 16.67\n",
      "Epoch 31/100, Train Loss: 0.4746, Train Acc: 83.33, Val Loss: 2.1501, Val Acc: 16.67\n",
      "Epoch 32/100, Train Loss: 0.4691, Train Acc: 83.33, Val Loss: 2.1673, Val Acc: 16.67\n",
      "Epoch 33/100, Train Loss: 0.4617, Train Acc: 83.33, Val Loss: 2.1847, Val Acc: 16.67\n",
      "Epoch 34/100, Train Loss: 0.4479, Train Acc: 81.67, Val Loss: 2.2016, Val Acc: 16.67\n",
      "Epoch 35/100, Train Loss: 0.4183, Train Acc: 83.33, Val Loss: 2.2189, Val Acc: 16.67\n",
      "Epoch 36/100, Train Loss: 0.4033, Train Acc: 85.00, Val Loss: 2.2357, Val Acc: 16.67\n",
      "Epoch 37/100, Train Loss: 0.4007, Train Acc: 83.33, Val Loss: 2.2523, Val Acc: 16.67\n",
      "Epoch 38/100, Train Loss: 0.3824, Train Acc: 85.00, Val Loss: 2.2684, Val Acc: 12.50\n",
      "Epoch 39/100, Train Loss: 0.3781, Train Acc: 85.00, Val Loss: 2.2842, Val Acc: 12.50\n",
      "Epoch 40/100, Train Loss: 0.3738, Train Acc: 86.67, Val Loss: 2.2989, Val Acc: 12.50\n",
      "Epoch 41/100, Train Loss: 0.3472, Train Acc: 83.33, Val Loss: 2.3140, Val Acc: 12.50\n",
      "Epoch 42/100, Train Loss: 0.3310, Train Acc: 81.67, Val Loss: 2.3294, Val Acc: 12.50\n",
      "Epoch 43/100, Train Loss: 0.3362, Train Acc: 81.67, Val Loss: 2.3444, Val Acc: 12.50\n",
      "Epoch 44/100, Train Loss: 0.3442, Train Acc: 78.33, Val Loss: 2.3592, Val Acc: 12.50\n",
      "Epoch 45/100, Train Loss: 0.3126, Train Acc: 85.00, Val Loss: 2.3738, Val Acc: 12.50\n",
      "Epoch 46/100, Train Loss: 0.3243, Train Acc: 90.00, Val Loss: 2.3886, Val Acc: 12.50\n",
      "Epoch 47/100, Train Loss: 0.3126, Train Acc: 83.33, Val Loss: 2.4031, Val Acc: 12.50\n",
      "Epoch 48/100, Train Loss: 0.3219, Train Acc: 80.00, Val Loss: 2.4177, Val Acc: 12.50\n",
      "Epoch 49/100, Train Loss: 0.2897, Train Acc: 90.00, Val Loss: 2.4319, Val Acc: 12.50\n",
      "Epoch 50/100, Train Loss: 0.2802, Train Acc: 85.00, Val Loss: 2.4458, Val Acc: 12.50\n",
      "Epoch 51/100, Train Loss: 0.3029, Train Acc: 86.67, Val Loss: 2.4599, Val Acc: 12.50\n",
      "Epoch 52/100, Train Loss: 0.2863, Train Acc: 86.67, Val Loss: 2.4739, Val Acc: 12.50\n",
      "Epoch 53/100, Train Loss: 0.2902, Train Acc: 86.67, Val Loss: 2.4875, Val Acc: 16.67\n",
      "Epoch 54/100, Train Loss: 0.2920, Train Acc: 81.67, Val Loss: 2.5011, Val Acc: 16.67\n",
      "Epoch 55/100, Train Loss: 0.2882, Train Acc: 80.00, Val Loss: 2.5140, Val Acc: 16.67\n",
      "Epoch 56/100, Train Loss: 0.2759, Train Acc: 83.33, Val Loss: 2.5261, Val Acc: 16.67\n",
      "Epoch 57/100, Train Loss: 0.2883, Train Acc: 78.33, Val Loss: 2.5376, Val Acc: 16.67\n",
      "Epoch 58/100, Train Loss: 0.2787, Train Acc: 83.33, Val Loss: 2.5489, Val Acc: 16.67\n",
      "Epoch 59/100, Train Loss: 0.2705, Train Acc: 83.33, Val Loss: 2.5600, Val Acc: 16.67\n",
      "Epoch 60/100, Train Loss: 0.2651, Train Acc: 86.67, Val Loss: 2.5715, Val Acc: 16.67\n",
      "Epoch 61/100, Train Loss: 0.2608, Train Acc: 86.67, Val Loss: 2.5825, Val Acc: 16.67\n",
      "Epoch 62/100, Train Loss: 0.2798, Train Acc: 81.67, Val Loss: 2.5929, Val Acc: 16.67\n",
      "Epoch 63/100, Train Loss: 0.2849, Train Acc: 78.33, Val Loss: 2.6031, Val Acc: 16.67\n",
      "Epoch 64/100, Train Loss: 0.2660, Train Acc: 78.33, Val Loss: 2.6125, Val Acc: 16.67\n",
      "Epoch 65/100, Train Loss: 0.2647, Train Acc: 83.33, Val Loss: 2.6218, Val Acc: 12.50\n",
      "Epoch 66/100, Train Loss: 0.2455, Train Acc: 91.67, Val Loss: 2.6311, Val Acc: 12.50\n",
      "Epoch 67/100, Train Loss: 0.2527, Train Acc: 86.67, Val Loss: 2.6404, Val Acc: 12.50\n",
      "Epoch 68/100, Train Loss: 0.2663, Train Acc: 85.00, Val Loss: 2.6491, Val Acc: 12.50\n",
      "Epoch 69/100, Train Loss: 0.2437, Train Acc: 90.00, Val Loss: 2.6575, Val Acc: 12.50\n",
      "Epoch 70/100, Train Loss: 0.2646, Train Acc: 80.00, Val Loss: 2.6656, Val Acc: 12.50\n",
      "Epoch 71/100, Train Loss: 0.2679, Train Acc: 86.67, Val Loss: 2.6733, Val Acc: 12.50\n",
      "Epoch 72/100, Train Loss: 0.2652, Train Acc: 81.67, Val Loss: 2.6809, Val Acc: 12.50\n",
      "Epoch 73/100, Train Loss: 0.2503, Train Acc: 86.67, Val Loss: 2.6887, Val Acc: 12.50\n",
      "Epoch 74/100, Train Loss: 0.2408, Train Acc: 88.33, Val Loss: 2.6967, Val Acc: 12.50\n",
      "Epoch 75/100, Train Loss: 0.2597, Train Acc: 80.00, Val Loss: 2.7046, Val Acc: 12.50\n",
      "Epoch 76/100, Train Loss: 0.2618, Train Acc: 81.67, Val Loss: 2.7113, Val Acc: 16.67\n",
      "Epoch 77/100, Train Loss: 0.2398, Train Acc: 83.33, Val Loss: 2.7179, Val Acc: 16.67\n",
      "Epoch 78/100, Train Loss: 0.2612, Train Acc: 85.00, Val Loss: 2.7239, Val Acc: 16.67\n",
      "Epoch 79/100, Train Loss: 0.2568, Train Acc: 88.33, Val Loss: 2.7303, Val Acc: 16.67\n",
      "Epoch 80/100, Train Loss: 0.2490, Train Acc: 85.00, Val Loss: 2.7372, Val Acc: 16.67\n",
      "Epoch 81/100, Train Loss: 0.2578, Train Acc: 83.33, Val Loss: 2.7438, Val Acc: 16.67\n",
      "Epoch 82/100, Train Loss: 0.2494, Train Acc: 80.00, Val Loss: 2.7498, Val Acc: 16.67\n",
      "Epoch 83/100, Train Loss: 0.2493, Train Acc: 83.33, Val Loss: 2.7553, Val Acc: 16.67\n",
      "Epoch 84/100, Train Loss: 0.2536, Train Acc: 80.00, Val Loss: 2.7604, Val Acc: 16.67\n",
      "Epoch 85/100, Train Loss: 0.2613, Train Acc: 76.67, Val Loss: 2.7655, Val Acc: 16.67\n",
      "Epoch 86/100, Train Loss: 0.2521, Train Acc: 81.67, Val Loss: 2.7707, Val Acc: 16.67\n",
      "Epoch 87/100, Train Loss: 0.2448, Train Acc: 85.00, Val Loss: 2.7745, Val Acc: 16.67\n",
      "Epoch 88/100, Train Loss: 0.2517, Train Acc: 81.67, Val Loss: 2.7785, Val Acc: 16.67\n",
      "Epoch 89/100, Train Loss: 0.2525, Train Acc: 81.67, Val Loss: 2.7828, Val Acc: 16.67\n",
      "Epoch 90/100, Train Loss: 0.2297, Train Acc: 91.67, Val Loss: 2.7873, Val Acc: 16.67\n",
      "Epoch 91/100, Train Loss: 0.2494, Train Acc: 86.67, Val Loss: 2.7920, Val Acc: 16.67\n",
      "Epoch 92/100, Train Loss: 0.2788, Train Acc: 75.00, Val Loss: 2.7965, Val Acc: 16.67\n",
      "Epoch 93/100, Train Loss: 0.2504, Train Acc: 83.33, Val Loss: 2.8009, Val Acc: 16.67\n",
      "Epoch 94/100, Train Loss: 0.2393, Train Acc: 85.00, Val Loss: 2.8058, Val Acc: 16.67\n",
      "Epoch 95/100, Train Loss: 0.2471, Train Acc: 86.67, Val Loss: 2.8107, Val Acc: 16.67\n",
      "Epoch 96/100, Train Loss: 0.2658, Train Acc: 76.67, Val Loss: 2.8155, Val Acc: 16.67\n",
      "Epoch 97/100, Train Loss: 0.2521, Train Acc: 81.67, Val Loss: 2.8204, Val Acc: 16.67\n",
      "Epoch 98/100, Train Loss: 0.2426, Train Acc: 86.67, Val Loss: 2.8249, Val Acc: 16.67\n",
      "Epoch 99/100, Train Loss: 0.2454, Train Acc: 88.33, Val Loss: 2.8297, Val Acc: 16.67\n",
      "Epoch 100/100, Train Loss: 0.2623, Train Acc: 83.33, Val Loss: 2.8348, Val Acc: 16.67\n"
     ]
    }
   ],
   "source": [
    "num_epochs = 100\n",
    "\n",
    "train_losses = []\n",
    "train_accuracies = []\n",
    "val_losses = []\n",
    "val_accuracies = []\n",
    "\n",
    "best_val_acc = 0.0\n",
    "\n",
    "for epoch in range(num_epochs):\n",
    "    train_loss, train_acc = trainModel(model, train_loader, criterion, optimizer)\n",
    "    val_loss, val_acc = evalModel(model, val_loader, criterion)\n",
    "    \n",
    "    train_losses.append(train_loss)\n",
    "    train_accuracies.append(train_acc)\n",
    "    \n",
    "    val_losses.append(val_loss)\n",
    "    val_accuracies.append(val_acc)\n",
    "    \n",
    "    print(f'Epoch {epoch+1}/{num_epochs}, Train Loss: {train_loss:.4f}, Train Acc: {train_acc:.2f}, Val Loss: {val_loss:.4f}, Val Acc: {val_acc:.2f}')"
   ]
  },
  {
   "cell_type": "code",
   "execution_count": 12,
   "metadata": {},
   "outputs": [
    {
     "name": "stdout",
     "output_type": "stream",
     "text": [
      "Test Loss: 1.7272, Test Acc: 37.50\n"
     ]
    }
   ],
   "source": [
    "# avaliando modelo sem augmentation\n",
    "test_loss, test_acc = evalModel(model, test_loader, criterion)\n",
    "print(f'Test Loss: {test_loss:.4f}, Test Acc: {test_acc:.2f}')"
   ]
  },
  {
   "cell_type": "code",
   "execution_count": 13,
   "metadata": {},
   "outputs": [
    {
     "data": {
      "image/png": "[encoded data removed]",
      "text/plain": [
       "<Figure size 1400x500 with 2 Axes>"
      ]
     },
     "metadata": {},
     "output_type": "display_data"
    }
   ],
   "source": [
    "# Plotando a perda e a precisão do modelo sem augmentation\n",
    "epochs = range(1, num_epochs + 1) # é 36 epocas porque com early stopping so rodou 36 epocas\n",
    "\n",
    "plt.figure(figsize=(14, 5))\n",
    "\n",
    "plt.subplot(1, 2, 1)\n",
    "plt.plot(epochs, train_losses, 'r', label='Train Loss')\n",
    "plt.plot(epochs, val_losses, 'b', label='Validation Loss')\n",
    "plt.title('Train and Validation Loss')\n",
    "plt.xlabel('Epochs')\n",
    "plt.ylabel('Loss')\n",
    "plt.legend()\n",
    "\n",
    "plt.subplot(1, 2, 2)\n",
    "plt.plot(epochs, train_accuracies, 'r', label='Train Accuracy')\n",
    "plt.plot(epochs, val_accuracies, 'b', label='Validation Accuracy')\n",
    "plt.title('Train and Validation Accuracy')\n",
    "plt.xlabel('Epochs')\n",
    "plt.ylabel('Accuracy')\n",
    "plt.legend()\n",
    "\n",
    "plt.show()"
   ]
  },
  {
   "cell_type": "code",
   "execution_count": 14,
   "metadata": {},
   "outputs": [
    {
     "data": {
      "image/png": "[encoded data removed]",
      "text/plain": [
       "<Figure size 1000x800 with 2 Axes>"
      ]
     },
     "metadata": {},
     "output_type": "display_data"
    },
    {
     "name": "stdout",
     "output_type": "stream",
     "text": [
      "              precision    recall  f1-score   support\n",
      "\n",
      "           0       0.00      0.00      0.00         4\n",
      "           1       0.00      0.00      0.00         4\n",
      "           2       0.11      0.25      0.15         4\n",
      "           3       0.80      1.00      0.89         4\n",
      "           4       1.00      0.50      0.67         4\n",
      "           5       1.00      0.50      0.67         4\n",
      "\n",
      "    accuracy                           0.38        24\n",
      "   macro avg       0.49      0.38      0.40        24\n",
      "weighted avg       0.49      0.38      0.40        24\n",
      "\n"
     ]
    }
   ],
   "source": [
    "# Obter previsões do conjunto de teste\n",
    "model.eval()\n",
    "all_preds = []\n",
    "all_labels = []\n",
    "with torch.no_grad():\n",
    "    for batch_idx, (x, y) in enumerate(test_loader):\n",
    "        outputs = model(x)\n",
    "        _, preds = outputs.max(1)\n",
    "        all_preds.extend(preds.cpu().numpy())\n",
    "        all_labels.extend(y.cpu().numpy())\n",
    "\n",
    "# Calcular a matriz de confusão\n",
    "cm = confusion_matrix(all_labels, all_preds)\n",
    "\n",
    "# Visualizar a matriz de confusão\n",
    "plt.figure(figsize=(10, 8))\n",
    "sns.heatmap(cm, annot=True, fmt='d', cmap='Blues')\n",
    "plt.title('Confusion Matrix')\n",
    "plt.xlabel('Predicted')\n",
    "plt.ylabel('True')\n",
    "plt.show()\n",
    "\n",
    "# Relatório de classificação\n",
    "print(classification_report(all_labels, all_preds))"
   ]
  },
  {
   "cell_type": "markdown",
   "metadata": {},
   "source": [
    "### Testando Random Forest"
   ]
  },
  {
   "cell_type": "code",
   "execution_count": 15,
   "metadata": {},
   "outputs": [],
   "source": [
    "import pandas as pd\n",
    "import numpy as np\n",
    "from sklearn.ensemble import RandomForestClassifier\n",
    "from sklearn.model_selection import train_test_split\n",
    "from sklearn.metrics import accuracy_score, classification_report, confusion_matrix"
   ]
  },
  {
   "cell_type": "code",
   "execution_count": 16,
   "metadata": {},
   "outputs": [
    {
     "name": "stdout",
     "output_type": "stream",
     "text": [
      "\n",
      "Avaliação do modelo:\n",
      "Acurácia: 66.67%\n",
      "\n",
      "Relatório de Classificação:\n",
      "              precision    recall  f1-score   support\n",
      "\n",
      "           0       0.50      1.00      0.67         4\n",
      "           1       0.00      0.00      0.00         4\n",
      "           2       0.60      0.75      0.67         4\n",
      "           3       0.75      0.75      0.75         4\n",
      "           4       1.00      0.75      0.86         4\n",
      "           5       0.75      0.75      0.75         4\n",
      "\n",
      "    accuracy                           0.67        24\n",
      "   macro avg       0.60      0.67      0.62        24\n",
      "weighted avg       0.60      0.67      0.62        24\n",
      "\n",
      "\n",
      "Matriz de Confusão:\n",
      "[[4 0 0 0 0 0]\n",
      " [4 0 0 0 0 0]\n",
      " [0 0 3 1 0 0]\n",
      " [0 0 0 3 0 1]\n",
      " [0 0 1 0 3 0]\n",
      " [0 0 1 0 0 3]]\n"
     ]
    },
    {
     "name": "stderr",
     "output_type": "stream",
     "text": [
      "/Users/filipealvessampaio/miniconda3/envs/vae/lib/python3.9/site-packages/sklearn/metrics/_classification.py:1517: UndefinedMetricWarning: Precision is ill-defined and being set to 0.0 in labels with no predicted samples. Use `zero_division` parameter to control this behavior.\n",
      "  _warn_prf(average, modifier, f\"{metric.capitalize()} is\", len(result))\n",
      "/Users/filipealvessampaio/miniconda3/envs/vae/lib/python3.9/site-packages/sklearn/metrics/_classification.py:1517: UndefinedMetricWarning: Precision is ill-defined and being set to 0.0 in labels with no predicted samples. Use `zero_division` parameter to control this behavior.\n",
      "  _warn_prf(average, modifier, f\"{metric.capitalize()} is\", len(result))\n",
      "/Users/filipealvessampaio/miniconda3/envs/vae/lib/python3.9/site-packages/sklearn/metrics/_classification.py:1517: UndefinedMetricWarning: Precision is ill-defined and being set to 0.0 in labels with no predicted samples. Use `zero_division` parameter to control this behavior.\n",
      "  _warn_prf(average, modifier, f\"{metric.capitalize()} is\", len(result))\n"
     ]
    }
   ],
   "source": [
    "rf_model = RandomForestClassifier(n_estimators=100, random_state=42)\n",
    "\n",
    "rf_model.fit(X_train, y_train)\n",
    "\n",
    "y_pred = rf_model.predict(X_test)\n",
    "\n",
    "accuracy = accuracy_score(y_test, y_pred)\n",
    "\n",
    "print(\"\\nAvaliação do modelo:\")\n",
    "print(f\"Acurácia: {accuracy * 100:.2f}%\")\n",
    "print(\"\\nRelatório de Classificação:\")\n",
    "print(classification_report(y_test, y_pred))\n",
    "print(\"\\nMatriz de Confusão:\")\n",
    "print(confusion_matrix(y_test, y_pred))"
   ]
  }
 ],
 "metadata": {
  "kernelspec": {
   "display_name": "vae",
   "language": "python",
   "name": "python3"
  },
  "language_info": {
   "codemirror_mode": {
    "name": "ipython",
    "version": 3
   },
   "file_extension": ".py",
   "mimetype": "text/x-python",
   "name": "python",
   "nbconvert_exporter": "python",
   "pygments_lexer": "ipython3",
   "version": "3.9.19"
  }
 },
 "nbformat": 4,
 "nbformat_minor": 2
}
